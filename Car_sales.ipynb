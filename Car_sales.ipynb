{
  "nbformat": 4,
  "nbformat_minor": 0,
  "metadata": {
    "colab": {
      "name": "Car_sales.ipynb",
      "provenance": [],
      "authorship_tag": "ABX9TyMuDQFTRkVBQGFVWbLFabGz",
      "include_colab_link": true
    },
    "kernelspec": {
      "name": "python3",
      "display_name": "Python 3"
    },
    "language_info": {
      "name": "python"
    }
  },
  "cells": [
    {
      "cell_type": "markdown",
      "metadata": {
        "id": "view-in-github",
        "colab_type": "text"
      },
      "source": [
        "<a href=\"https://colab.research.google.com/github/brahm-gh/data_analysis_projects/blob/master/Car_sales.ipynb\" target=\"_parent\"><img src=\"https://colab.research.google.com/assets/colab-badge.svg\" alt=\"Open In Colab\"/></a>"
      ]
    },
    {
      "cell_type": "markdown",
      "metadata": {
        "id": "Ft21k9j17Xit"
      },
      "source": [
        "#Car Sales"
      ]
    },
    {
      "cell_type": "markdown",
      "metadata": {
        "id": "RZP4osegWtqb"
      },
      "source": [
        "In this project i will be looking for features that best estimate the resale value of a car. the dataset is from kaggle: https://www.kaggle.com/gagandeep16/car-sales ."
      ]
    },
    {
      "cell_type": "markdown",
      "metadata": {
        "id": "lu5zV9mKWNBL"
      },
      "source": [
        "####Importing the libraries"
      ]
    },
    {
      "cell_type": "code",
      "metadata": {
        "id": "6gEgnZsm7j8T"
      },
      "source": [
        "import pandas as pd\n",
        "import numpy as np\n",
        "import matplotlib.pyplot as plt"
      ],
      "execution_count": 39,
      "outputs": []
    },
    {
      "cell_type": "markdown",
      "metadata": {
        "id": "e_TpMH1JWXNJ"
      },
      "source": [
        "####Importing the dataset"
      ]
    },
    {
      "cell_type": "code",
      "metadata": {
        "colab": {
          "base_uri": "https://localhost:8080/",
          "height": 699
        },
        "id": "4KbGeZ2f7utx",
        "outputId": "2201f07a-9453-4c43-86e9-33ab2d4dceb2"
      },
      "source": [
        "df = pd.read_csv('Car_sales.csv')\n",
        "df.head(20)"
      ],
      "execution_count": 40,
      "outputs": [
        {
          "output_type": "execute_result",
          "data": {
            "text/html": [
              "<div>\n",
              "<style scoped>\n",
              "    .dataframe tbody tr th:only-of-type {\n",
              "        vertical-align: middle;\n",
              "    }\n",
              "\n",
              "    .dataframe tbody tr th {\n",
              "        vertical-align: top;\n",
              "    }\n",
              "\n",
              "    .dataframe thead th {\n",
              "        text-align: right;\n",
              "    }\n",
              "</style>\n",
              "<table border=\"1\" class=\"dataframe\">\n",
              "  <thead>\n",
              "    <tr style=\"text-align: right;\">\n",
              "      <th></th>\n",
              "      <th>Manufacturer</th>\n",
              "      <th>Model</th>\n",
              "      <th>Sales_in_thousands</th>\n",
              "      <th>__year_resale_value</th>\n",
              "      <th>Vehicle_type</th>\n",
              "      <th>Price_in_thousands</th>\n",
              "      <th>Engine_size</th>\n",
              "      <th>Horsepower</th>\n",
              "      <th>Wheelbase</th>\n",
              "      <th>Width</th>\n",
              "      <th>Length</th>\n",
              "      <th>Curb_weight</th>\n",
              "      <th>Fuel_capacity</th>\n",
              "      <th>Fuel_efficiency</th>\n",
              "      <th>Latest_Launch</th>\n",
              "      <th>Power_perf_factor</th>\n",
              "    </tr>\n",
              "  </thead>\n",
              "  <tbody>\n",
              "    <tr>\n",
              "      <th>0</th>\n",
              "      <td>Acura</td>\n",
              "      <td>Integra</td>\n",
              "      <td>16.919</td>\n",
              "      <td>16.360</td>\n",
              "      <td>Passenger</td>\n",
              "      <td>21.500</td>\n",
              "      <td>1.8</td>\n",
              "      <td>140.0</td>\n",
              "      <td>101.2</td>\n",
              "      <td>67.3</td>\n",
              "      <td>172.4</td>\n",
              "      <td>2.639</td>\n",
              "      <td>13.2</td>\n",
              "      <td>28.0</td>\n",
              "      <td>2/2/2012</td>\n",
              "      <td>58.280150</td>\n",
              "    </tr>\n",
              "    <tr>\n",
              "      <th>1</th>\n",
              "      <td>Acura</td>\n",
              "      <td>TL</td>\n",
              "      <td>39.384</td>\n",
              "      <td>19.875</td>\n",
              "      <td>Passenger</td>\n",
              "      <td>28.400</td>\n",
              "      <td>3.2</td>\n",
              "      <td>225.0</td>\n",
              "      <td>108.1</td>\n",
              "      <td>70.3</td>\n",
              "      <td>192.9</td>\n",
              "      <td>3.517</td>\n",
              "      <td>17.2</td>\n",
              "      <td>25.0</td>\n",
              "      <td>6/3/2011</td>\n",
              "      <td>91.370778</td>\n",
              "    </tr>\n",
              "    <tr>\n",
              "      <th>2</th>\n",
              "      <td>Acura</td>\n",
              "      <td>CL</td>\n",
              "      <td>14.114</td>\n",
              "      <td>18.225</td>\n",
              "      <td>Passenger</td>\n",
              "      <td>NaN</td>\n",
              "      <td>3.2</td>\n",
              "      <td>225.0</td>\n",
              "      <td>106.9</td>\n",
              "      <td>70.6</td>\n",
              "      <td>192.0</td>\n",
              "      <td>3.470</td>\n",
              "      <td>17.2</td>\n",
              "      <td>26.0</td>\n",
              "      <td>1/4/2012</td>\n",
              "      <td>NaN</td>\n",
              "    </tr>\n",
              "    <tr>\n",
              "      <th>3</th>\n",
              "      <td>Acura</td>\n",
              "      <td>RL</td>\n",
              "      <td>8.588</td>\n",
              "      <td>29.725</td>\n",
              "      <td>Passenger</td>\n",
              "      <td>42.000</td>\n",
              "      <td>3.5</td>\n",
              "      <td>210.0</td>\n",
              "      <td>114.6</td>\n",
              "      <td>71.4</td>\n",
              "      <td>196.6</td>\n",
              "      <td>3.850</td>\n",
              "      <td>18.0</td>\n",
              "      <td>22.0</td>\n",
              "      <td>3/10/2011</td>\n",
              "      <td>91.389779</td>\n",
              "    </tr>\n",
              "    <tr>\n",
              "      <th>4</th>\n",
              "      <td>Audi</td>\n",
              "      <td>A4</td>\n",
              "      <td>20.397</td>\n",
              "      <td>22.255</td>\n",
              "      <td>Passenger</td>\n",
              "      <td>23.990</td>\n",
              "      <td>1.8</td>\n",
              "      <td>150.0</td>\n",
              "      <td>102.6</td>\n",
              "      <td>68.2</td>\n",
              "      <td>178.0</td>\n",
              "      <td>2.998</td>\n",
              "      <td>16.4</td>\n",
              "      <td>27.0</td>\n",
              "      <td>10/8/2011</td>\n",
              "      <td>62.777639</td>\n",
              "    </tr>\n",
              "    <tr>\n",
              "      <th>5</th>\n",
              "      <td>Audi</td>\n",
              "      <td>A6</td>\n",
              "      <td>18.780</td>\n",
              "      <td>23.555</td>\n",
              "      <td>Passenger</td>\n",
              "      <td>33.950</td>\n",
              "      <td>2.8</td>\n",
              "      <td>200.0</td>\n",
              "      <td>108.7</td>\n",
              "      <td>76.1</td>\n",
              "      <td>192.0</td>\n",
              "      <td>3.561</td>\n",
              "      <td>18.5</td>\n",
              "      <td>22.0</td>\n",
              "      <td>8/9/2011</td>\n",
              "      <td>84.565105</td>\n",
              "    </tr>\n",
              "    <tr>\n",
              "      <th>6</th>\n",
              "      <td>Audi</td>\n",
              "      <td>A8</td>\n",
              "      <td>1.380</td>\n",
              "      <td>39.000</td>\n",
              "      <td>Passenger</td>\n",
              "      <td>62.000</td>\n",
              "      <td>4.2</td>\n",
              "      <td>310.0</td>\n",
              "      <td>113.0</td>\n",
              "      <td>74.0</td>\n",
              "      <td>198.2</td>\n",
              "      <td>3.902</td>\n",
              "      <td>23.7</td>\n",
              "      <td>21.0</td>\n",
              "      <td>2/27/2012</td>\n",
              "      <td>134.656858</td>\n",
              "    </tr>\n",
              "    <tr>\n",
              "      <th>7</th>\n",
              "      <td>BMW</td>\n",
              "      <td>323i</td>\n",
              "      <td>19.747</td>\n",
              "      <td>NaN</td>\n",
              "      <td>Passenger</td>\n",
              "      <td>26.990</td>\n",
              "      <td>2.5</td>\n",
              "      <td>170.0</td>\n",
              "      <td>107.3</td>\n",
              "      <td>68.4</td>\n",
              "      <td>176.0</td>\n",
              "      <td>3.179</td>\n",
              "      <td>16.6</td>\n",
              "      <td>26.0</td>\n",
              "      <td>6/28/2011</td>\n",
              "      <td>71.191207</td>\n",
              "    </tr>\n",
              "    <tr>\n",
              "      <th>8</th>\n",
              "      <td>BMW</td>\n",
              "      <td>328i</td>\n",
              "      <td>9.231</td>\n",
              "      <td>28.675</td>\n",
              "      <td>Passenger</td>\n",
              "      <td>33.400</td>\n",
              "      <td>2.8</td>\n",
              "      <td>193.0</td>\n",
              "      <td>107.3</td>\n",
              "      <td>68.5</td>\n",
              "      <td>176.0</td>\n",
              "      <td>3.197</td>\n",
              "      <td>16.6</td>\n",
              "      <td>24.0</td>\n",
              "      <td>1/29/2012</td>\n",
              "      <td>81.877069</td>\n",
              "    </tr>\n",
              "    <tr>\n",
              "      <th>9</th>\n",
              "      <td>BMW</td>\n",
              "      <td>528i</td>\n",
              "      <td>17.527</td>\n",
              "      <td>36.125</td>\n",
              "      <td>Passenger</td>\n",
              "      <td>38.900</td>\n",
              "      <td>2.8</td>\n",
              "      <td>193.0</td>\n",
              "      <td>111.4</td>\n",
              "      <td>70.9</td>\n",
              "      <td>188.0</td>\n",
              "      <td>3.472</td>\n",
              "      <td>18.5</td>\n",
              "      <td>25.0</td>\n",
              "      <td>4/4/2011</td>\n",
              "      <td>83.998724</td>\n",
              "    </tr>\n",
              "    <tr>\n",
              "      <th>10</th>\n",
              "      <td>Buick</td>\n",
              "      <td>Century</td>\n",
              "      <td>91.561</td>\n",
              "      <td>12.475</td>\n",
              "      <td>Passenger</td>\n",
              "      <td>21.975</td>\n",
              "      <td>3.1</td>\n",
              "      <td>175.0</td>\n",
              "      <td>109.0</td>\n",
              "      <td>72.7</td>\n",
              "      <td>194.6</td>\n",
              "      <td>3.368</td>\n",
              "      <td>17.5</td>\n",
              "      <td>25.0</td>\n",
              "      <td>11/2/2011</td>\n",
              "      <td>71.181451</td>\n",
              "    </tr>\n",
              "    <tr>\n",
              "      <th>11</th>\n",
              "      <td>Buick</td>\n",
              "      <td>Regal</td>\n",
              "      <td>39.350</td>\n",
              "      <td>13.740</td>\n",
              "      <td>Passenger</td>\n",
              "      <td>25.300</td>\n",
              "      <td>3.8</td>\n",
              "      <td>240.0</td>\n",
              "      <td>109.0</td>\n",
              "      <td>72.7</td>\n",
              "      <td>196.2</td>\n",
              "      <td>3.543</td>\n",
              "      <td>17.5</td>\n",
              "      <td>23.0</td>\n",
              "      <td>9/3/2011</td>\n",
              "      <td>95.636703</td>\n",
              "    </tr>\n",
              "    <tr>\n",
              "      <th>12</th>\n",
              "      <td>Buick</td>\n",
              "      <td>Park Avenue</td>\n",
              "      <td>27.851</td>\n",
              "      <td>20.190</td>\n",
              "      <td>Passenger</td>\n",
              "      <td>31.965</td>\n",
              "      <td>3.8</td>\n",
              "      <td>205.0</td>\n",
              "      <td>113.8</td>\n",
              "      <td>74.7</td>\n",
              "      <td>206.8</td>\n",
              "      <td>3.778</td>\n",
              "      <td>18.5</td>\n",
              "      <td>24.0</td>\n",
              "      <td>3/23/2012</td>\n",
              "      <td>85.828408</td>\n",
              "    </tr>\n",
              "    <tr>\n",
              "      <th>13</th>\n",
              "      <td>Buick</td>\n",
              "      <td>LeSabre</td>\n",
              "      <td>83.257</td>\n",
              "      <td>13.360</td>\n",
              "      <td>Passenger</td>\n",
              "      <td>27.885</td>\n",
              "      <td>3.8</td>\n",
              "      <td>205.0</td>\n",
              "      <td>112.2</td>\n",
              "      <td>73.5</td>\n",
              "      <td>200.0</td>\n",
              "      <td>3.591</td>\n",
              "      <td>17.5</td>\n",
              "      <td>25.0</td>\n",
              "      <td>7/23/2011</td>\n",
              "      <td>84.254526</td>\n",
              "    </tr>\n",
              "    <tr>\n",
              "      <th>14</th>\n",
              "      <td>Cadillac</td>\n",
              "      <td>DeVille</td>\n",
              "      <td>63.729</td>\n",
              "      <td>22.525</td>\n",
              "      <td>Passenger</td>\n",
              "      <td>39.895</td>\n",
              "      <td>4.6</td>\n",
              "      <td>275.0</td>\n",
              "      <td>115.3</td>\n",
              "      <td>74.5</td>\n",
              "      <td>207.2</td>\n",
              "      <td>3.978</td>\n",
              "      <td>18.5</td>\n",
              "      <td>22.0</td>\n",
              "      <td>2/23/2012</td>\n",
              "      <td>113.854598</td>\n",
              "    </tr>\n",
              "    <tr>\n",
              "      <th>15</th>\n",
              "      <td>Cadillac</td>\n",
              "      <td>Seville</td>\n",
              "      <td>15.943</td>\n",
              "      <td>27.100</td>\n",
              "      <td>Passenger</td>\n",
              "      <td>44.475</td>\n",
              "      <td>4.6</td>\n",
              "      <td>275.0</td>\n",
              "      <td>112.2</td>\n",
              "      <td>75.0</td>\n",
              "      <td>201.0</td>\n",
              "      <td>NaN</td>\n",
              "      <td>18.5</td>\n",
              "      <td>22.0</td>\n",
              "      <td>4/29/2011</td>\n",
              "      <td>115.621358</td>\n",
              "    </tr>\n",
              "    <tr>\n",
              "      <th>16</th>\n",
              "      <td>Cadillac</td>\n",
              "      <td>Eldorado</td>\n",
              "      <td>6.536</td>\n",
              "      <td>25.725</td>\n",
              "      <td>Passenger</td>\n",
              "      <td>39.665</td>\n",
              "      <td>4.6</td>\n",
              "      <td>275.0</td>\n",
              "      <td>108.0</td>\n",
              "      <td>75.5</td>\n",
              "      <td>200.6</td>\n",
              "      <td>3.843</td>\n",
              "      <td>19.0</td>\n",
              "      <td>22.0</td>\n",
              "      <td>11/27/2011</td>\n",
              "      <td>113.765874</td>\n",
              "    </tr>\n",
              "    <tr>\n",
              "      <th>17</th>\n",
              "      <td>Cadillac</td>\n",
              "      <td>Catera</td>\n",
              "      <td>11.185</td>\n",
              "      <td>18.225</td>\n",
              "      <td>Passenger</td>\n",
              "      <td>31.010</td>\n",
              "      <td>3.0</td>\n",
              "      <td>200.0</td>\n",
              "      <td>107.4</td>\n",
              "      <td>70.3</td>\n",
              "      <td>194.8</td>\n",
              "      <td>3.770</td>\n",
              "      <td>18.0</td>\n",
              "      <td>22.0</td>\n",
              "      <td>9/28/2011</td>\n",
              "      <td>83.483094</td>\n",
              "    </tr>\n",
              "    <tr>\n",
              "      <th>18</th>\n",
              "      <td>Cadillac</td>\n",
              "      <td>Escalade</td>\n",
              "      <td>14.785</td>\n",
              "      <td>NaN</td>\n",
              "      <td>Car</td>\n",
              "      <td>46.225</td>\n",
              "      <td>5.7</td>\n",
              "      <td>255.0</td>\n",
              "      <td>117.5</td>\n",
              "      <td>77.0</td>\n",
              "      <td>201.2</td>\n",
              "      <td>5.572</td>\n",
              "      <td>30.0</td>\n",
              "      <td>15.0</td>\n",
              "      <td>4/17/2012</td>\n",
              "      <td>109.509117</td>\n",
              "    </tr>\n",
              "    <tr>\n",
              "      <th>19</th>\n",
              "      <td>Chevrolet</td>\n",
              "      <td>Cavalier</td>\n",
              "      <td>145.519</td>\n",
              "      <td>9.250</td>\n",
              "      <td>Passenger</td>\n",
              "      <td>13.260</td>\n",
              "      <td>2.2</td>\n",
              "      <td>115.0</td>\n",
              "      <td>104.1</td>\n",
              "      <td>67.9</td>\n",
              "      <td>180.9</td>\n",
              "      <td>2.676</td>\n",
              "      <td>14.3</td>\n",
              "      <td>27.0</td>\n",
              "      <td>8/17/2011</td>\n",
              "      <td>46.363347</td>\n",
              "    </tr>\n",
              "  </tbody>\n",
              "</table>\n",
              "</div>"
            ],
            "text/plain": [
              "   Manufacturer        Model  ...  Latest_Launch  Power_perf_factor\n",
              "0         Acura      Integra  ...       2/2/2012          58.280150\n",
              "1         Acura           TL  ...       6/3/2011          91.370778\n",
              "2         Acura           CL  ...       1/4/2012                NaN\n",
              "3         Acura           RL  ...      3/10/2011          91.389779\n",
              "4          Audi           A4  ...      10/8/2011          62.777639\n",
              "5          Audi           A6  ...       8/9/2011          84.565105\n",
              "6          Audi           A8  ...      2/27/2012         134.656858\n",
              "7           BMW         323i  ...      6/28/2011          71.191207\n",
              "8           BMW         328i  ...      1/29/2012          81.877069\n",
              "9           BMW         528i  ...       4/4/2011          83.998724\n",
              "10        Buick      Century  ...      11/2/2011          71.181451\n",
              "11        Buick        Regal  ...       9/3/2011          95.636703\n",
              "12        Buick  Park Avenue  ...      3/23/2012          85.828408\n",
              "13        Buick      LeSabre  ...      7/23/2011          84.254526\n",
              "14     Cadillac      DeVille  ...      2/23/2012         113.854598\n",
              "15     Cadillac      Seville  ...      4/29/2011         115.621358\n",
              "16     Cadillac     Eldorado  ...     11/27/2011         113.765874\n",
              "17     Cadillac       Catera  ...      9/28/2011          83.483094\n",
              "18     Cadillac     Escalade  ...      4/17/2012         109.509117\n",
              "19    Chevrolet     Cavalier  ...      8/17/2011          46.363347\n",
              "\n",
              "[20 rows x 16 columns]"
            ]
          },
          "metadata": {
            "tags": []
          },
          "execution_count": 40
        }
      ]
    },
    {
      "cell_type": "code",
      "metadata": {
        "colab": {
          "base_uri": "https://localhost:8080/"
        },
        "id": "bg8c69-q88Zd",
        "outputId": "19bfd3d7-bab9-4051-f183-b957e373c6bc"
      },
      "source": [
        "df.shape"
      ],
      "execution_count": 41,
      "outputs": [
        {
          "output_type": "execute_result",
          "data": {
            "text/plain": [
              "(157, 16)"
            ]
          },
          "metadata": {
            "tags": []
          },
          "execution_count": 41
        }
      ]
    },
    {
      "cell_type": "markdown",
      "metadata": {
        "id": "Mc2qd8XsWdEU"
      },
      "source": [
        "####Dropping missing values"
      ]
    },
    {
      "cell_type": "code",
      "metadata": {
        "id": "jS-wRQ0b9P8_"
      },
      "source": [
        "df.dropna(axis=0, inplace = True)"
      ],
      "execution_count": 42,
      "outputs": []
    },
    {
      "cell_type": "code",
      "metadata": {
        "colab": {
          "base_uri": "https://localhost:8080/"
        },
        "id": "uP8A2pil9P_e",
        "outputId": "2c907e78-5b2d-49d0-e9c0-45be41170e03"
      },
      "source": [
        "df.shape"
      ],
      "execution_count": 43,
      "outputs": [
        {
          "output_type": "execute_result",
          "data": {
            "text/plain": [
              "(117, 16)"
            ]
          },
          "metadata": {
            "tags": []
          },
          "execution_count": 43
        }
      ]
    },
    {
      "cell_type": "markdown",
      "metadata": {
        "id": "hE_Fi9F0WidS"
      },
      "source": [
        "####Fiding correlations between different features and the resale value"
      ]
    },
    {
      "cell_type": "code",
      "metadata": {
        "colab": {
          "base_uri": "https://localhost:8080/",
          "height": 437
        },
        "id": "sUxAKETC-n0-",
        "outputId": "0ccd7dd3-c519-4a35-8783-8f49a84cd599"
      },
      "source": [
        "df.corr()"
      ],
      "execution_count": 44,
      "outputs": [
        {
          "output_type": "execute_result",
          "data": {
            "text/html": [
              "<div>\n",
              "<style scoped>\n",
              "    .dataframe tbody tr th:only-of-type {\n",
              "        vertical-align: middle;\n",
              "    }\n",
              "\n",
              "    .dataframe tbody tr th {\n",
              "        vertical-align: top;\n",
              "    }\n",
              "\n",
              "    .dataframe thead th {\n",
              "        text-align: right;\n",
              "    }\n",
              "</style>\n",
              "<table border=\"1\" class=\"dataframe\">\n",
              "  <thead>\n",
              "    <tr style=\"text-align: right;\">\n",
              "      <th></th>\n",
              "      <th>Sales_in_thousands</th>\n",
              "      <th>__year_resale_value</th>\n",
              "      <th>Price_in_thousands</th>\n",
              "      <th>Engine_size</th>\n",
              "      <th>Horsepower</th>\n",
              "      <th>Wheelbase</th>\n",
              "      <th>Width</th>\n",
              "      <th>Length</th>\n",
              "      <th>Curb_weight</th>\n",
              "      <th>Fuel_capacity</th>\n",
              "      <th>Fuel_efficiency</th>\n",
              "      <th>Power_perf_factor</th>\n",
              "    </tr>\n",
              "  </thead>\n",
              "  <tbody>\n",
              "    <tr>\n",
              "      <th>Sales_in_thousands</th>\n",
              "      <td>1.000000</td>\n",
              "      <td>-0.275426</td>\n",
              "      <td>-0.251705</td>\n",
              "      <td>0.038111</td>\n",
              "      <td>-0.152538</td>\n",
              "      <td>0.406839</td>\n",
              "      <td>0.177802</td>\n",
              "      <td>0.272336</td>\n",
              "      <td>0.067184</td>\n",
              "      <td>0.138045</td>\n",
              "      <td>-0.066927</td>\n",
              "      <td>-0.175562</td>\n",
              "    </tr>\n",
              "    <tr>\n",
              "      <th>__year_resale_value</th>\n",
              "      <td>-0.275426</td>\n",
              "      <td>1.000000</td>\n",
              "      <td>0.954757</td>\n",
              "      <td>0.527187</td>\n",
              "      <td>0.773110</td>\n",
              "      <td>-0.053685</td>\n",
              "      <td>0.178128</td>\n",
              "      <td>0.025390</td>\n",
              "      <td>0.363274</td>\n",
              "      <td>0.324796</td>\n",
              "      <td>-0.398459</td>\n",
              "      <td>0.829511</td>\n",
              "    </tr>\n",
              "    <tr>\n",
              "      <th>Price_in_thousands</th>\n",
              "      <td>-0.251705</td>\n",
              "      <td>0.954757</td>\n",
              "      <td>1.000000</td>\n",
              "      <td>0.649170</td>\n",
              "      <td>0.853455</td>\n",
              "      <td>0.067042</td>\n",
              "      <td>0.301292</td>\n",
              "      <td>0.182592</td>\n",
              "      <td>0.511400</td>\n",
              "      <td>0.406496</td>\n",
              "      <td>-0.479539</td>\n",
              "      <td>0.905002</td>\n",
              "    </tr>\n",
              "    <tr>\n",
              "      <th>Engine_size</th>\n",
              "      <td>0.038111</td>\n",
              "      <td>0.527187</td>\n",
              "      <td>0.649170</td>\n",
              "      <td>1.000000</td>\n",
              "      <td>0.861618</td>\n",
              "      <td>0.410020</td>\n",
              "      <td>0.671756</td>\n",
              "      <td>0.537343</td>\n",
              "      <td>0.742831</td>\n",
              "      <td>0.616862</td>\n",
              "      <td>-0.724871</td>\n",
              "      <td>0.841005</td>\n",
              "    </tr>\n",
              "    <tr>\n",
              "      <th>Horsepower</th>\n",
              "      <td>-0.152538</td>\n",
              "      <td>0.773110</td>\n",
              "      <td>0.853455</td>\n",
              "      <td>0.861618</td>\n",
              "      <td>1.000000</td>\n",
              "      <td>0.225905</td>\n",
              "      <td>0.507275</td>\n",
              "      <td>0.400968</td>\n",
              "      <td>0.598603</td>\n",
              "      <td>0.479790</td>\n",
              "      <td>-0.595844</td>\n",
              "      <td>0.994071</td>\n",
              "    </tr>\n",
              "    <tr>\n",
              "      <th>Wheelbase</th>\n",
              "      <td>0.406839</td>\n",
              "      <td>-0.053685</td>\n",
              "      <td>0.067042</td>\n",
              "      <td>0.410020</td>\n",
              "      <td>0.225905</td>\n",
              "      <td>1.000000</td>\n",
              "      <td>0.675559</td>\n",
              "      <td>0.853669</td>\n",
              "      <td>0.675609</td>\n",
              "      <td>0.658654</td>\n",
              "      <td>-0.470455</td>\n",
              "      <td>0.200228</td>\n",
              "    </tr>\n",
              "    <tr>\n",
              "      <th>Width</th>\n",
              "      <td>0.177802</td>\n",
              "      <td>0.178128</td>\n",
              "      <td>0.301292</td>\n",
              "      <td>0.671756</td>\n",
              "      <td>0.507275</td>\n",
              "      <td>0.675559</td>\n",
              "      <td>1.000000</td>\n",
              "      <td>0.743226</td>\n",
              "      <td>0.735957</td>\n",
              "      <td>0.672191</td>\n",
              "      <td>-0.599604</td>\n",
              "      <td>0.478889</td>\n",
              "    </tr>\n",
              "    <tr>\n",
              "      <th>Length</th>\n",
              "      <td>0.272336</td>\n",
              "      <td>0.025390</td>\n",
              "      <td>0.182592</td>\n",
              "      <td>0.537343</td>\n",
              "      <td>0.400968</td>\n",
              "      <td>0.853669</td>\n",
              "      <td>0.743226</td>\n",
              "      <td>1.000000</td>\n",
              "      <td>0.684305</td>\n",
              "      <td>0.562504</td>\n",
              "      <td>-0.465682</td>\n",
              "      <td>0.366831</td>\n",
              "    </tr>\n",
              "    <tr>\n",
              "      <th>Curb_weight</th>\n",
              "      <td>0.067184</td>\n",
              "      <td>0.363274</td>\n",
              "      <td>0.511400</td>\n",
              "      <td>0.742831</td>\n",
              "      <td>0.598603</td>\n",
              "      <td>0.675609</td>\n",
              "      <td>0.735957</td>\n",
              "      <td>0.684305</td>\n",
              "      <td>1.000000</td>\n",
              "      <td>0.847994</td>\n",
              "      <td>-0.818819</td>\n",
              "      <td>0.597586</td>\n",
              "    </tr>\n",
              "    <tr>\n",
              "      <th>Fuel_capacity</th>\n",
              "      <td>0.138045</td>\n",
              "      <td>0.324796</td>\n",
              "      <td>0.406496</td>\n",
              "      <td>0.616862</td>\n",
              "      <td>0.479790</td>\n",
              "      <td>0.658654</td>\n",
              "      <td>0.672191</td>\n",
              "      <td>0.562504</td>\n",
              "      <td>0.847994</td>\n",
              "      <td>1.000000</td>\n",
              "      <td>-0.808506</td>\n",
              "      <td>0.478484</td>\n",
              "    </tr>\n",
              "    <tr>\n",
              "      <th>Fuel_efficiency</th>\n",
              "      <td>-0.066927</td>\n",
              "      <td>-0.398459</td>\n",
              "      <td>-0.479539</td>\n",
              "      <td>-0.724871</td>\n",
              "      <td>-0.595844</td>\n",
              "      <td>-0.470455</td>\n",
              "      <td>-0.599604</td>\n",
              "      <td>-0.465682</td>\n",
              "      <td>-0.818819</td>\n",
              "      <td>-0.808506</td>\n",
              "      <td>1.000000</td>\n",
              "      <td>-0.588427</td>\n",
              "    </tr>\n",
              "    <tr>\n",
              "      <th>Power_perf_factor</th>\n",
              "      <td>-0.175562</td>\n",
              "      <td>0.829511</td>\n",
              "      <td>0.905002</td>\n",
              "      <td>0.841005</td>\n",
              "      <td>0.994071</td>\n",
              "      <td>0.200228</td>\n",
              "      <td>0.478889</td>\n",
              "      <td>0.366831</td>\n",
              "      <td>0.597586</td>\n",
              "      <td>0.478484</td>\n",
              "      <td>-0.588427</td>\n",
              "      <td>1.000000</td>\n",
              "    </tr>\n",
              "  </tbody>\n",
              "</table>\n",
              "</div>"
            ],
            "text/plain": [
              "                     Sales_in_thousands  ...  Power_perf_factor\n",
              "Sales_in_thousands             1.000000  ...          -0.175562\n",
              "__year_resale_value           -0.275426  ...           0.829511\n",
              "Price_in_thousands            -0.251705  ...           0.905002\n",
              "Engine_size                    0.038111  ...           0.841005\n",
              "Horsepower                    -0.152538  ...           0.994071\n",
              "Wheelbase                      0.406839  ...           0.200228\n",
              "Width                          0.177802  ...           0.478889\n",
              "Length                         0.272336  ...           0.366831\n",
              "Curb_weight                    0.067184  ...           0.597586\n",
              "Fuel_capacity                  0.138045  ...           0.478484\n",
              "Fuel_efficiency               -0.066927  ...          -0.588427\n",
              "Power_perf_factor             -0.175562  ...           1.000000\n",
              "\n",
              "[12 rows x 12 columns]"
            ]
          },
          "metadata": {
            "tags": []
          },
          "execution_count": 44
        }
      ]
    },
    {
      "cell_type": "markdown",
      "metadata": {
        "id": "ctQierKWXp0t"
      },
      "source": [
        "As expected there is a strong correlation between price and year resale value. But we also see a correlation between year resale value and engine size, horsepower and power performance factor."
      ]
    },
    {
      "cell_type": "markdown",
      "metadata": {
        "id": "lTJY_oKvXLid"
      },
      "source": [
        "####Splitting the data into independent variables and a dependent variable"
      ]
    },
    {
      "cell_type": "code",
      "metadata": {
        "id": "oMgsN7A6BgNV"
      },
      "source": [
        "X = df.iloc[:, [6,7,-1]].values\n",
        "y = df.iloc[:, 3].values"
      ],
      "execution_count": 45,
      "outputs": []
    },
    {
      "cell_type": "code",
      "metadata": {
        "colab": {
          "base_uri": "https://localhost:8080/"
        },
        "id": "Cvl9np0_EbJT",
        "outputId": "cfd313cb-05aa-4357-e686-87f9fabf80fc"
      },
      "source": [
        "print(X)"
      ],
      "execution_count": 46,
      "outputs": [
        {
          "output_type": "stream",
          "text": [
            "[[  1.8        140.          58.28014952]\n",
            " [  3.2        225.          91.37077766]\n",
            " [  3.5        210.          91.38977933]\n",
            " [  1.8        150.          62.7776392 ]\n",
            " [  2.8        200.          84.56510502]\n",
            " [  4.2        310.         134.6568582 ]\n",
            " [  2.8        193.          81.87706856]\n",
            " [  2.8        193.          83.9987238 ]\n",
            " [  3.1        175.          71.18145132]\n",
            " [  3.8        240.          95.63670253]\n",
            " [  3.8        205.          85.82840825]\n",
            " [  3.8        205.          84.25452581]\n",
            " [  4.6        275.         113.8545976 ]\n",
            " [  4.6        275.         113.7658739 ]\n",
            " [  3.         200.          83.48309358]\n",
            " [  2.2        115.          46.36334747]\n",
            " [  3.1        170.          67.31446216]\n",
            " [  3.1        175.          69.9913956 ]\n",
            " [  3.4        180.          72.03091719]\n",
            " [  3.8        200.          81.11854333]\n",
            " [  5.7        345.         141.14115   ]\n",
            " [  1.8        120.          48.2976361 ]\n",
            " [  1.          55.          23.27627233]\n",
            " [  2.5        163.          65.95718396]\n",
            " [  2.5        168.          69.52135505]\n",
            " [  2.7        200.          80.02378204]\n",
            " [  2.         132.          53.56619987]\n",
            " [  3.5        253.         101.3292807 ]\n",
            " [  2.         132.          52.08489875]\n",
            " [  2.5        163.          65.65050834]\n",
            " [  2.5        168.          67.87610784]\n",
            " [  8.         450.         188.144323  ]\n",
            " [  5.2        230.          90.21170005]\n",
            " [  3.9        175.          71.13529161]\n",
            " [  3.9        175.          70.07832154]\n",
            " [  2.5        120.          49.64500177]\n",
            " [  2.4        150.          61.22700031]\n",
            " [  2.         110.          44.08370946]\n",
            " [  3.8        190.          76.50918456]\n",
            " [  2.5        170.          67.35101072]\n",
            " [  3.         155.          62.5037395 ]\n",
            " [  4.6        200.          80.49953671]\n",
            " [  4.         210.          87.63549578]\n",
            " [  3.         150.          62.09504839]\n",
            " [  4.6        240.         100.0248023 ]\n",
            " [  2.5        119.          47.38953131]\n",
            " [  4.6        220.          89.40193473]\n",
            " [  1.6        106.          42.87909734]\n",
            " [  2.3        135.          54.26954829]\n",
            " [  2.         146.          60.08796662]\n",
            " [  3.2        205.          83.6025008 ]\n",
            " [  3.5        210.          85.21769134]\n",
            " [  1.5         92.          36.67228358]\n",
            " [  2.         140.          54.59004516]\n",
            " [  2.4        148.          58.758249  ]\n",
            " [  3.         227.          92.43688923]\n",
            " [  2.5        120.          48.67289791]\n",
            " [  4.         190.          76.58443962]\n",
            " [  4.         195.          80.38777912]\n",
            " [  3.         210.          87.21100104]\n",
            " [  3.         225.          94.9466984 ]\n",
            " [  4.         290.         124.4467163 ]\n",
            " [  4.6        275.         113.5402069 ]\n",
            " [  4.6        215.          93.9579169 ]\n",
            " [  1.8        113.          45.83218056]\n",
            " [  2.4        154.          62.44196235]\n",
            " [  2.4        145.          58.60677292]\n",
            " [  3.5        210.          84.83077858]\n",
            " [  3.         161.          67.54415494]\n",
            " [  3.5        200.          83.92081504]\n",
            " [  3.         173.          70.66094179]\n",
            " [  2.         125.          50.99774761]\n",
            " [  2.         125.          51.11347426]\n",
            " [  3.         153.          62.23996663]\n",
            " [  4.6        200.          80.65769646]\n",
            " [  4.         210.          85.94974425]\n",
            " [  3.3        170.          69.671461  ]\n",
            " [  2.3        185.          78.28073088]\n",
            " [  3.2        221.          98.2497375 ]\n",
            " [  4.3        275.         125.2738757 ]\n",
            " [  5.         302.         139.9822936 ]\n",
            " [  1.8        126.          50.24197791]\n",
            " [  2.4        155.          63.31372783]\n",
            " [  3.         222.          89.42782031]\n",
            " [  3.3        170.          71.17166413]\n",
            " [  3.3        170.          72.29035508]\n",
            " [  3.1        150.          60.86161155]\n",
            " [  4.         250.         103.4416926 ]\n",
            " [  4.3        190.          80.51167259]\n",
            " [  3.4        185.          76.09657042]\n",
            " [  2.         132.          52.08489875]\n",
            " [  2.         132.          53.41189767]\n",
            " [  2.4        150.          60.95118512]\n",
            " [  2.4        150.          62.0158703 ]\n",
            " [  3.4        175.          70.38973726]\n",
            " [  3.8        200.          81.49272616]\n",
            " [  3.8        195.          78.31816813]\n",
            " [  3.8        205.          82.6613556 ]\n",
            " [  2.7        217.          93.4373307 ]\n",
            " [  3.4        300.         134.3909754 ]\n",
            " [  3.4        300.         135.9147096 ]\n",
            " [  1.9        100.          39.98642475]\n",
            " [  1.9        100.          40.70007242]\n",
            " [  1.9        124.          49.86577367]\n",
            " [  1.8        120.          47.96897242]\n",
            " [  2.2        133.          54.37241965]\n",
            " [  3.         210.          84.91189826]\n",
            " [  1.8        140.          56.49603034]\n",
            " [  2.4        142.          55.29711658]\n",
            " [  2.         127.          51.95510887]\n",
            " [  2.7        150.          62.35557713]\n",
            " [  4.7        230.         102.5289842 ]\n",
            " [  2.         115.          46.94387676]\n",
            " [  2.         115.          47.63823666]\n",
            " [  1.8        150.          61.70138136]\n",
            " [  2.         115.          48.90737225]\n",
            " [  2.         115.          47.94684106]]\n"
          ],
          "name": "stdout"
        }
      ]
    },
    {
      "cell_type": "code",
      "metadata": {
        "colab": {
          "base_uri": "https://localhost:8080/"
        },
        "id": "HaJhkrXcEc6o",
        "outputId": "c06902bd-3e2f-46f5-ab96-25c1ac752a15"
      },
      "source": [
        "print(y)"
      ],
      "execution_count": 47,
      "outputs": [
        {
          "output_type": "stream",
          "text": [
            "[16.36  19.875 29.725 22.255 23.555 39.    28.675 36.125 12.475 13.74\n",
            " 20.19  13.36  22.525 25.725 18.225  9.25  11.225 10.31  11.525 13.025\n",
            " 36.225  9.125  5.16  12.36  14.18  13.725 12.64  17.325  7.75  12.545\n",
            " 10.185 58.47  15.06  15.51  13.425 11.26  12.025  7.425 12.76   8.835\n",
            " 10.055 14.21  16.64  13.175 23.575  7.85  15.075  9.85  13.21  17.71\n",
            " 17.525 19.49   5.86   7.825  8.91  19.69  13.475 13.775 18.81  26.975\n",
            " 32.075 40.375 20.525 21.725  8.325 10.395 10.595 16.575 20.94  19.125\n",
            " 13.88   8.8   13.89  11.03  14.875 20.43  14.795 26.05  41.45  50.375\n",
            " 58.6    8.45  11.295 15.125 15.38  17.81  11.24  19.89  19.925 15.24\n",
            "  7.75   9.8   12.025 13.79  10.29  17.805 14.01  13.225 41.25  60.625\n",
            " 67.55   9.2   10.59  10.79  10.025 13.245 18.14  15.445  9.575 13.325\n",
            " 19.425 34.08  11.425 13.24  16.725 16.575 13.76 ]\n"
          ],
          "name": "stdout"
        }
      ]
    },
    {
      "cell_type": "code",
      "metadata": {
        "id": "wr5TFi1SKIY9"
      },
      "source": [
        "y = y.reshape(len(y),1)"
      ],
      "execution_count": 48,
      "outputs": []
    },
    {
      "cell_type": "markdown",
      "metadata": {
        "id": "Uuodv6bFXuvl"
      },
      "source": [
        "####Splitting the data into training set and testing set"
      ]
    },
    {
      "cell_type": "code",
      "metadata": {
        "id": "BvGUtgy7IF54"
      },
      "source": [
        "from sklearn.model_selection import train_test_split\n",
        "X_train, X_test, y_train, y_test = train_test_split(X, y, test_size = 0.2, random_state = 0)"
      ],
      "execution_count": 49,
      "outputs": []
    },
    {
      "cell_type": "markdown",
      "metadata": {
        "id": "0KtebT7CX0sW"
      },
      "source": [
        "####Visualisation of the correlation between the features and the dependent variable"
      ]
    },
    {
      "cell_type": "code",
      "metadata": {
        "colab": {
          "base_uri": "https://localhost:8080/",
          "height": 421
        },
        "id": "c0gNmegZS6wa",
        "outputId": "9220ee5c-958a-4f6d-9193-3f8550e0006c"
      },
      "source": [
        "import seaborn as sns\n",
        "plt.figure(figsize=(18,6))\n",
        "ax1 = plt.subplot(1, 3, 1)\n",
        "sns.regplot( x = X_train[:,0], y = y_train)\n",
        "ax1.set_title('Engine Size vs Year Resale Value')\n",
        "ax1.set_xlabel('Engine Size')\n",
        "ax1.set_ylabel('Year Resale Value (k$)')\n",
        "ax2 = plt.subplot(1, 3, 2)\n",
        "sns.regplot( x = X_train[:,1], y = y_train)\n",
        "ax2.set_title('Horsepower vs Year Resale Value')\n",
        "ax2.set_xlabel('Horsepower')\n",
        "ax2.set_ylabel('Year Resale Value (k$)')\n",
        "ax3 = plt.subplot(1, 3, 3)\n",
        "sns.regplot( x = X_train[:,2], y = y_train)\n",
        "ax3.set_title('Power Performance Factor vs Year Resale Value')\n",
        "ax3.set_xlabel('Power Performance Factor')\n",
        "ax3.set_ylabel('Year Resale Value (k$)')"
      ],
      "execution_count": 50,
      "outputs": [
        {
          "output_type": "execute_result",
          "data": {
            "text/plain": [
              "Text(0, 0.5, 'Year Resale Value (k$)')"
            ]
          },
          "metadata": {
            "tags": []
          },
          "execution_count": 50
        },
        {
          "output_type": "display_data",
          "data": {
            "image/png": "[encoded data removed]",
            "text/plain": [
              "<Figure size 1296x432 with 3 Axes>"
            ]
          },
          "metadata": {
            "tags": [],
            "needs_background": "light"
          }
        }
      ]
    },
    {
      "cell_type": "markdown",
      "metadata": {
        "id": "qd4ppNjiX_QD"
      },
      "source": [
        "####Feature scaling"
      ]
    },
    {
      "cell_type": "code",
      "metadata": {
        "id": "4jRfu7d7Hl20"
      },
      "source": [
        "from sklearn.preprocessing import StandardScaler\n",
        "sc_X = StandardScaler()\n",
        "X_train = sc_X.fit_transform(X_train)\n",
        "X_test = sc_X.transform(X_test)\n",
        "sc_y = StandardScaler()\n",
        "y_train = sc_y.fit_transform(y_train)\n",
        "y_test = sc_y.transform(y_test)"
      ],
      "execution_count": 51,
      "outputs": []
    },
    {
      "cell_type": "code",
      "metadata": {
        "colab": {
          "base_uri": "https://localhost:8080/"
        },
        "id": "au0NBO-WIwJw",
        "outputId": "aa769b73-f4dd-4899-df1c-1204044520d2"
      },
      "source": [
        "print(X_train)"
      ],
      "execution_count": 52,
      "outputs": [
        {
          "output_type": "stream",
          "text": [
            "[[-0.80078172 -0.85217339 -0.8202769 ]\n",
            " [ 0.7738898  -0.13956597 -0.17751258]\n",
            " [-0.52289851 -0.25833387 -0.30248443]\n",
            " [-0.52289851 -1.07274236 -1.03882234]\n",
            " [-0.70815398 -0.8182397  -0.82422146]\n",
            " [ 0.03286791 -0.13956597 -0.17574261]\n",
            " [ 0.68126206  0.36943933  0.26444884]\n",
            " [-0.61552625 -0.64857127 -0.65791265]\n",
            " [-0.98603719 -0.95397445 -0.91296753]\n",
            " [-1.17129266 -0.56373705 -0.49798277]\n",
            " [ 1.42228395  0.53910777  0.69761009]\n",
            " [-0.2450153   0.16583721  0.23437573]\n",
            " [-0.05975983 -0.37710178 -0.315213  ]\n",
            " [-0.52289851 -1.0897092  -1.08803242]\n",
            " [ 0.31075111  0.03010246  0.01272529]\n",
            " [-1.07866493 -1.41207922 -1.34453653]\n",
            " [ 0.21812338 -0.22440019 -0.13322222]\n",
            " [ 0.12549564  0.64090883  0.8621779 ]\n",
            " [ 0.21812338 -0.22440019 -0.17611789]\n",
            " [ 0.40337885  1.18384781  0.98026151]\n",
            " [ 0.31075111 -0.05473175 -0.14317025]\n",
            " [ 0.68126206  0.36943933  0.32553819]\n",
            " [-0.05975983  0.7087762   0.73552444]\n",
            " [-0.33764304  0.57304145  0.67764846]\n",
            " [-0.61552625 -0.59767074 -0.65210437]\n",
            " [-0.61552625 -0.56373705 -0.56801728]\n",
            " [ 0.40337885  0.45427355  0.36247031]\n",
            " [ 0.12549564  0.7087762   0.59840747]\n",
            " [-0.98603719 -0.98790814 -0.94967709]\n",
            " [ 0.86651753  0.45427355  0.45517987]\n",
            " [ 1.42228395  0.28460511  0.18155493]\n",
            " [-0.2450153   0.28460511  0.3374472 ]\n",
            " [-0.80078172 -1.15757657 -1.12738095]\n",
            " [ 0.03286791 -0.13956597 -0.22137473]\n",
            " [-1.44917587 -1.54781397 -1.49898017]\n",
            " [-0.05975983 -0.47890284 -0.50848533]\n",
            " [ 0.68126206  0.11493668  0.02854678]\n",
            " [ 1.051773    2.15095789  2.25819156]\n",
            " [-0.98603719 -0.73340549 -0.81193216]\n",
            " [-1.17129266 -0.73340549 -0.73884807]\n",
            " [ 0.86651753  0.45427355  0.39054053]\n",
            " [-1.17129266 -0.73340549 -0.67043687]\n",
            " [ 0.7738898  -0.13956597 -0.21804159]\n",
            " [-0.98603719 -0.86914023 -0.9079908 ]\n",
            " [-0.05975983  0.74270989  0.63928701]\n",
            " [-0.52289851 -1.07274236 -1.00154749]\n",
            " [-0.52289851 -0.34316809 -0.37606465]\n",
            " [ 4.57162698  4.52631596  4.30914286]\n",
            " [ 0.21812338 -0.22440019 -0.23364247]\n",
            " [ 0.86651753  0.11493668  0.0314324 ]\n",
            " [-0.98603719 -0.86914023 -0.9079908 ]\n",
            " [ 0.31075111  1.98128945  2.30642327]\n",
            " [ 1.97805037  0.79361042  0.55396319]\n",
            " [ 0.31075111  1.98128945  2.24799641]\n",
            " [-0.05975983  0.28460511  0.29595799]\n",
            " [ 0.68126206  0.1997709   0.09791139]\n",
            " [ 0.68126206  0.28460511  0.20529044]\n",
            " [-0.52289851 -0.34316809 -0.38782398]\n",
            " [-0.98603719 -0.63160443 -0.60111698]\n",
            " [-0.61552625 -0.47890284 -0.47742671]\n",
            " [-1.17129266 -0.56373705 -0.53925137]\n",
            " [-0.98603719 -1.15757657 -1.02983154]\n",
            " [ 1.14440074  1.55711837  1.89840558]\n",
            " [ 0.40337885  0.28460511  0.31274221]\n",
            " [ 1.79279489  2.01522314  2.46239284]\n",
            " [ 2.44118905  2.7447974   2.50682863]\n",
            " [-0.33764304 -0.56373705 -0.51416654]\n",
            " [-0.98603719 -0.98790814 -0.94523961]\n",
            " [-0.70815398  0.03010246  0.09647588]\n",
            " [-0.33764304  0.28460511  0.16331234]\n",
            " [-0.98603719 -1.24241079 -1.21479258]\n",
            " [-1.17129266 -0.9709413  -0.97865672]\n",
            " [ 1.51491168  0.79361042  1.02626357]\n",
            " [ 1.42228395  0.62394198  0.52291313]\n",
            " [-0.05975983  0.45427355  0.35074482]\n",
            " [-0.52289851 -0.22440019 -0.32261903]\n",
            " [-0.61552625 -0.49586968 -0.51085414]\n",
            " [ 0.86651753  0.1997709   0.17726963]\n",
            " [ 1.42228395  1.55711837  1.46053881]\n",
            " [-1.17129266 -1.07274236 -1.06581403]\n",
            " [ 1.14440074  0.11493668  0.18202027]\n",
            " [-0.05975983 -0.17349966 -0.1957013 ]\n",
            " [ 0.86651753  1.13294728  1.06126094]\n",
            " [-0.61552625 -0.56373705 -0.55744128]\n",
            " [-1.17129266 -1.07274236 -1.05321158]\n",
            " [-0.05975983  0.65787567  0.5239057 ]\n",
            " [ 0.68126206  0.96327885  0.76198232]\n",
            " [-1.07866493 -1.00487498 -0.99308209]\n",
            " [-0.98603719 -1.15757657 -1.07849594]\n",
            " [ 0.40337885  0.45427355  0.34763433]\n",
            " [-1.17129266 -1.19151026 -1.14774829]\n",
            " [-1.35654814 -1.31027816 -1.26098286]\n",
            " [ 1.42228395  0.96327885  0.93024191]]\n"
          ],
          "name": "stdout"
        }
      ]
    },
    {
      "cell_type": "code",
      "metadata": {
        "colab": {
          "base_uri": "https://localhost:8080/"
        },
        "id": "RHQyj4CIKRX4",
        "outputId": "4f4b2f8d-eab6-4e1e-99d2-e93bad340955"
      },
      "source": [
        "print(y_train)"
      ],
      "execution_count": 53,
      "outputs": [
        {
          "output_type": "stream",
          "text": [
            "[[-0.41684644]\n",
            " [-0.23064584]\n",
            " [-0.66840222]\n",
            " [-0.39793865]\n",
            " [-0.41972371]\n",
            " [-0.48014642]\n",
            " [-0.4184906 ]\n",
            " [-0.63469704]\n",
            " [-0.41026982]\n",
            " [ 0.32384558]\n",
            " [ 0.28027546]\n",
            " [ 0.85161948]\n",
            " [ 0.21574236]\n",
            " [-0.86035737]\n",
            " [-0.25284194]\n",
            " [-0.63510807]\n",
            " [-0.04156796]\n",
            " [ 1.90182376]\n",
            " [-0.24133285]\n",
            " [-0.08143873]\n",
            " [-0.55824381]\n",
            " [-0.40739255]\n",
            " [ 1.1311259 ]\n",
            " [ 1.88538221]\n",
            " [-0.77321713]\n",
            " [-0.51713992]\n",
            " [ 0.09654109]\n",
            " [ 0.12819109]\n",
            " [-0.78225999]\n",
            " [-0.13775106]\n",
            " [-0.33751594]\n",
            " [ 0.43071569]\n",
            " [-0.74526649]\n",
            " [-0.65812625]\n",
            " [-1.02395084]\n",
            " [-0.67908923]\n",
            " [-0.45671721]\n",
            " [ 1.70041472]\n",
            " [-0.86241256]\n",
            " [-0.23598934]\n",
            " [ 0.1738164 ]\n",
            " [-0.16076923]\n",
            " [-0.40204904]\n",
            " [-0.86857815]\n",
            " [ 0.11298265]\n",
            " [-0.58002887]\n",
            " [-0.48960032]\n",
            " [ 3.30100004]\n",
            " [-0.28942439]\n",
            " [-0.37327632]\n",
            " [-0.86857815]\n",
            " [ 4.04744661]\n",
            " [-0.26763933]\n",
            " [ 3.47815779]\n",
            " [-0.00745174]\n",
            " [-0.3539575 ]\n",
            " [-0.43493215]\n",
            " [-0.47439188]\n",
            " [-0.04978874]\n",
            " [-0.5771516 ]\n",
            " [-0.13076339]\n",
            " [-0.14309456]\n",
            " [ 2.63552813]\n",
            " [ 0.06653526]\n",
            " [ 3.31168705]\n",
            " [ 1.47228816]\n",
            " [ 0.09119759]\n",
            " [-0.36382243]\n",
            " [ 0.63582408]\n",
            " [-0.37738671]\n",
            " [-0.89529567]\n",
            " [-0.81103271]\n",
            " [ 1.29595249]\n",
            " [-0.26640622]\n",
            " [-0.0144394 ]\n",
            " [-0.77938271]\n",
            " [-0.65113859]\n",
            " [ 0.04063981]\n",
            " [ 0.34604168]\n",
            " [-0.68155547]\n",
            " [ 0.13230148]\n",
            " [-0.36464451]\n",
            " [ 0.1294242 ]\n",
            " [-0.51713992]\n",
            " [-0.75554246]\n",
            " [-0.26229583]\n",
            " [-0.37615359]\n",
            " [-0.61866652]\n",
            " [-0.41725748]\n",
            " [-0.14309456]\n",
            " [-0.82130868]\n",
            " [-0.69594183]\n",
            " [ 0.43235984]]\n"
          ],
          "name": "stdout"
        }
      ]
    },
    {
      "cell_type": "markdown",
      "metadata": {
        "id": "BKRqOuWdYLPQ"
      },
      "source": [
        "####Training the data on the linear regression  model"
      ]
    },
    {
      "cell_type": "code",
      "metadata": {
        "colab": {
          "base_uri": "https://localhost:8080/"
        },
        "id": "rWSvcJjINe-Q",
        "outputId": "0e5bd122-b717-4449-efaa-09c743a075a4"
      },
      "source": [
        "from sklearn.linear_model import LinearRegression\n",
        "lr = LinearRegression()\n",
        "lr.fit(X_train, y_train)"
      ],
      "execution_count": 54,
      "outputs": [
        {
          "output_type": "execute_result",
          "data": {
            "text/plain": [
              "LinearRegression(copy_X=True, fit_intercept=True, n_jobs=None, normalize=False)"
            ]
          },
          "metadata": {
            "tags": []
          },
          "execution_count": 54
        }
      ]
    },
    {
      "cell_type": "markdown",
      "metadata": {
        "id": "CjudhY-QYVf1"
      },
      "source": [
        "####Measuring the performance of the model"
      ]
    },
    {
      "cell_type": "code",
      "metadata": {
        "id": "Exp1wP2kUi9U"
      },
      "source": [
        "lr_pred = lr.predict(X_test)"
      ],
      "execution_count": 55,
      "outputs": []
    },
    {
      "cell_type": "code",
      "metadata": {
        "colab": {
          "base_uri": "https://localhost:8080/"
        },
        "id": "jmdeS5rrU4s8",
        "outputId": "34e7249b-0c56-463e-c72d-2877c68b59c1"
      },
      "source": [
        "from sklearn.metrics import r2_score\n",
        "r2_score(lr_pred, y_test)"
      ],
      "execution_count": 56,
      "outputs": [
        {
          "output_type": "execute_result",
          "data": {
            "text/plain": [
              "0.9095790169667508"
            ]
          },
          "metadata": {
            "tags": []
          },
          "execution_count": 56
        }
      ]
    },
    {
      "cell_type": "markdown",
      "metadata": {
        "id": "9hX40gtnUofs"
      },
      "source": [
        "####Training the data on the polynomial regression model and evaluating it's preformance"
      ]
    },
    {
      "cell_type": "code",
      "metadata": {
        "colab": {
          "base_uri": "https://localhost:8080/"
        },
        "id": "htsTJfmZWJ5m",
        "outputId": "c345a598-8690-4b27-a37e-27ccb5e5180f"
      },
      "source": [
        "from sklearn.preprocessing import PolynomialFeatures\n",
        "pr = PolynomialFeatures(degree = 2)\n",
        "X_train_poly = pr.fit_transform(X_train)\n",
        "X_test_poly = pr.transform(X_test)\n",
        "lr2 = LinearRegression()\n",
        "lr2.fit(X_train_poly, y_train)"
      ],
      "execution_count": 57,
      "outputs": [
        {
          "output_type": "execute_result",
          "data": {
            "text/plain": [
              "LinearRegression(copy_X=True, fit_intercept=True, n_jobs=None, normalize=False)"
            ]
          },
          "metadata": {
            "tags": []
          },
          "execution_count": 57
        }
      ]
    },
    {
      "cell_type": "code",
      "metadata": {
        "colab": {
          "base_uri": "https://localhost:8080/"
        },
        "id": "xydw4iHtP9GJ",
        "outputId": "ae21716c-d172-4e66-fca6-2717a2755bb2"
      },
      "source": [
        "pr_pred = lr2.predict(X_test_poly)\n",
        "r2_score(pr_pred, y_test)"
      ],
      "execution_count": 58,
      "outputs": [
        {
          "output_type": "execute_result",
          "data": {
            "text/plain": [
              "0.8384579499828174"
            ]
          },
          "metadata": {
            "tags": []
          },
          "execution_count": 58
        }
      ]
    },
    {
      "cell_type": "markdown",
      "metadata": {
        "id": "5rfPG6ZDU1C6"
      },
      "source": [
        "####Training the data on the support vector regression model and evaluating it's performance"
      ]
    },
    {
      "cell_type": "code",
      "metadata": {
        "colab": {
          "base_uri": "https://localhost:8080/"
        },
        "id": "VlqS_yrkQTP6",
        "outputId": "1242623f-f1d7-4762-8403-cbf0a0ce0885"
      },
      "source": [
        "from sklearn.svm import SVR\n",
        "reg = SVR(kernel = 'linear')\n",
        "reg.fit(X_train, y_train)"
      ],
      "execution_count": 59,
      "outputs": [
        {
          "output_type": "stream",
          "text": [
            "/usr/local/lib/python3.7/dist-packages/sklearn/utils/validation.py:760: DataConversionWarning: A column-vector y was passed when a 1d array was expected. Please change the shape of y to (n_samples, ), for example using ravel().\n",
            "  y = column_or_1d(y, warn=True)\n"
          ],
          "name": "stderr"
        },
        {
          "output_type": "execute_result",
          "data": {
            "text/plain": [
              "SVR(C=1.0, cache_size=200, coef0=0.0, degree=3, epsilon=0.1, gamma='scale',\n",
              "    kernel='linear', max_iter=-1, shrinking=True, tol=0.001, verbose=False)"
            ]
          },
          "metadata": {
            "tags": []
          },
          "execution_count": 59
        }
      ]
    },
    {
      "cell_type": "code",
      "metadata": {
        "colab": {
          "base_uri": "https://localhost:8080/"
        },
        "id": "NWx4f2ysQxzp",
        "outputId": "986561b8-a207-44f2-bdec-ccd60698737e"
      },
      "source": [
        "reg_pred = reg.predict(X_test)\n",
        "r2_score(reg_pred, y_test)"
      ],
      "execution_count": 60,
      "outputs": [
        {
          "output_type": "execute_result",
          "data": {
            "text/plain": [
              "0.7927586904885999"
            ]
          },
          "metadata": {
            "tags": []
          },
          "execution_count": 60
        }
      ]
    },
    {
      "cell_type": "markdown",
      "metadata": {
        "id": "Ku5QbPaxVBnP"
      },
      "source": [
        "####Training the data on the decision tree regression model and evaluating it's performance"
      ]
    },
    {
      "cell_type": "code",
      "metadata": {
        "colab": {
          "base_uri": "https://localhost:8080/"
        },
        "id": "9u-1ymRXQ893",
        "outputId": "e13cb8c2-2b26-4091-8200-ceb1b52bd067"
      },
      "source": [
        "from sklearn.tree import DecisionTreeRegressor\n",
        "reg2  = DecisionTreeRegressor()\n",
        "reg2.fit(X_train, y_train)"
      ],
      "execution_count": 61,
      "outputs": [
        {
          "output_type": "execute_result",
          "data": {
            "text/plain": [
              "DecisionTreeRegressor(ccp_alpha=0.0, criterion='mse', max_depth=None,\n",
              "                      max_features=None, max_leaf_nodes=None,\n",
              "                      min_impurity_decrease=0.0, min_impurity_split=None,\n",
              "                      min_samples_leaf=1, min_samples_split=2,\n",
              "                      min_weight_fraction_leaf=0.0, presort='deprecated',\n",
              "                      random_state=None, splitter='best')"
            ]
          },
          "metadata": {
            "tags": []
          },
          "execution_count": 61
        }
      ]
    },
    {
      "cell_type": "code",
      "metadata": {
        "colab": {
          "base_uri": "https://localhost:8080/"
        },
        "id": "CDM43P3HR7uV",
        "outputId": "7635941e-d560-43ff-8ef5-de2262bd98a7"
      },
      "source": [
        "reg2_pred = reg2.predict(X_test)\n",
        "r2_score(reg2_pred, y_test)"
      ],
      "execution_count": 62,
      "outputs": [
        {
          "output_type": "execute_result",
          "data": {
            "text/plain": [
              "0.7444613222123768"
            ]
          },
          "metadata": {
            "tags": []
          },
          "execution_count": 62
        }
      ]
    },
    {
      "cell_type": "markdown",
      "metadata": {
        "id": "rarsjCQzVKZm"
      },
      "source": [
        "####Training the data on the random forest regression model and evaluating it's performance"
      ]
    },
    {
      "cell_type": "code",
      "metadata": {
        "colab": {
          "base_uri": "https://localhost:8080/"
        },
        "id": "8X7Am4J1SYvb",
        "outputId": "0e8f5a72-de05-4e74-8206-84b7418cf7ce"
      },
      "source": [
        "from sklearn.ensemble import RandomForestRegressor\n",
        "reg3 = RandomForestRegressor(n_estimators = 10)\n",
        "reg3.fit(X_train, y_train)"
      ],
      "execution_count": 63,
      "outputs": [
        {
          "output_type": "stream",
          "text": [
            "/usr/local/lib/python3.7/dist-packages/ipykernel_launcher.py:3: DataConversionWarning: A column-vector y was passed when a 1d array was expected. Please change the shape of y to (n_samples,), for example using ravel().\n",
            "  This is separate from the ipykernel package so we can avoid doing imports until\n"
          ],
          "name": "stderr"
        },
        {
          "output_type": "execute_result",
          "data": {
            "text/plain": [
              "RandomForestRegressor(bootstrap=True, ccp_alpha=0.0, criterion='mse',\n",
              "                      max_depth=None, max_features='auto', max_leaf_nodes=None,\n",
              "                      max_samples=None, min_impurity_decrease=0.0,\n",
              "                      min_impurity_split=None, min_samples_leaf=1,\n",
              "                      min_samples_split=2, min_weight_fraction_leaf=0.0,\n",
              "                      n_estimators=10, n_jobs=None, oob_score=False,\n",
              "                      random_state=None, verbose=0, warm_start=False)"
            ]
          },
          "metadata": {
            "tags": []
          },
          "execution_count": 63
        }
      ]
    },
    {
      "cell_type": "code",
      "metadata": {
        "colab": {
          "base_uri": "https://localhost:8080/"
        },
        "id": "ZYAdI7rrS540",
        "outputId": "eab0e98f-74b9-4322-87f3-05c6bfea1c5a"
      },
      "source": [
        "reg3_pred = reg3.predict(X_test)\n",
        "r2_score(reg3_pred, y_test)"
      ],
      "execution_count": 64,
      "outputs": [
        {
          "output_type": "execute_result",
          "data": {
            "text/plain": [
              "0.6334810850143215"
            ]
          },
          "metadata": {
            "tags": []
          },
          "execution_count": 64
        }
      ]
    },
    {
      "cell_type": "markdown",
      "metadata": {
        "id": "zUQ880PpVV6z"
      },
      "source": [
        "###Model Selection"
      ]
    },
    {
      "cell_type": "markdown",
      "metadata": {
        "id": "TB-jjaePVYyw"
      },
      "source": [
        "The multiple linear regression model had by far the highest R² score of 0.9. we can conclude that it is the best model that fits our data."
      ]
    }
  ]
}