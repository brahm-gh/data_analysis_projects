{
  "nbformat": 4,
  "nbformat_minor": 0,
  "metadata": {
    "colab": {
      "name": "life_expectancy.ipynb",
      "provenance": [],
      "collapsed_sections": []
    },
    "kernelspec": {
      "display_name": "Python 3",
      "name": "python3"
    },
    "language_info": {
      "name": "python"
    }
  },
  "cells": [
    {
      "cell_type": "markdown",
      "metadata": {
        "id": "sJ5THVA4stgM"
      },
      "source": [
        "#Life Expectancy"
      ]
    },
    {
      "cell_type": "markdown",
      "metadata": {
        "id": "i_se5zWcCfoN"
      },
      "source": [
        "This notebook will examine factors that influence life expectancy, these factors will incude health factors and economic factors. The dataset is imported from kaggle. The data was provided by WHO and the United Nations."
      ]
    },
    {
      "cell_type": "code",
      "metadata": {
        "id": "rt58V7c4sqzH"
      },
      "source": [
        "import pandas as pd\n",
        "import numpy as np\n",
        "import matplotlib.pyplot as plt"
      ],
      "execution_count": 18,
      "outputs": []
    },
    {
      "cell_type": "code",
      "metadata": {
        "id": "CF268USHtSgc"
      },
      "source": [
        "df = pd.read_csv('Life Expectancy Data.csv')"
      ],
      "execution_count": 19,
      "outputs": []
    },
    {
      "cell_type": "code",
      "metadata": {
        "colab": {
          "base_uri": "https://localhost:8080/",
          "height": 274
        },
        "id": "P0n6lgG7tizt",
        "outputId": "2d7a00be-333b-4fab-ca95-b3139a7d1299"
      },
      "source": [
        "df.head()"
      ],
      "execution_count": 20,
      "outputs": [
        {
          "output_type": "execute_result",
          "data": {
            "text/html": [
              "<div>\n",
              "<style scoped>\n",
              "    .dataframe tbody tr th:only-of-type {\n",
              "        vertical-align: middle;\n",
              "    }\n",
              "\n",
              "    .dataframe tbody tr th {\n",
              "        vertical-align: top;\n",
              "    }\n",
              "\n",
              "    .dataframe thead th {\n",
              "        text-align: right;\n",
              "    }\n",
              "</style>\n",
              "<table border=\"1\" class=\"dataframe\">\n",
              "  <thead>\n",
              "    <tr style=\"text-align: right;\">\n",
              "      <th></th>\n",
              "      <th>Country</th>\n",
              "      <th>Year</th>\n",
              "      <th>Status</th>\n",
              "      <th>Life expectancy</th>\n",
              "      <th>Adult Mortality</th>\n",
              "      <th>infant deaths</th>\n",
              "      <th>Alcohol</th>\n",
              "      <th>percentage expenditure</th>\n",
              "      <th>Hepatitis B</th>\n",
              "      <th>Measles</th>\n",
              "      <th>BMI</th>\n",
              "      <th>under-five deaths</th>\n",
              "      <th>Polio</th>\n",
              "      <th>Total expenditure</th>\n",
              "      <th>Diphtheria</th>\n",
              "      <th>HIV/AIDS</th>\n",
              "      <th>GDP</th>\n",
              "      <th>Population</th>\n",
              "      <th>thinness  1-19 years</th>\n",
              "      <th>thinness 5-9 years</th>\n",
              "      <th>Income composition of resources</th>\n",
              "      <th>Schooling</th>\n",
              "    </tr>\n",
              "  </thead>\n",
              "  <tbody>\n",
              "    <tr>\n",
              "      <th>0</th>\n",
              "      <td>Afghanistan</td>\n",
              "      <td>2015</td>\n",
              "      <td>Developing</td>\n",
              "      <td>65.0</td>\n",
              "      <td>263.0</td>\n",
              "      <td>62</td>\n",
              "      <td>0.01</td>\n",
              "      <td>71.279624</td>\n",
              "      <td>65.0</td>\n",
              "      <td>1154</td>\n",
              "      <td>19.1</td>\n",
              "      <td>83</td>\n",
              "      <td>6.0</td>\n",
              "      <td>8.16</td>\n",
              "      <td>65.0</td>\n",
              "      <td>0.1</td>\n",
              "      <td>584.259210</td>\n",
              "      <td>33736494.0</td>\n",
              "      <td>17.2</td>\n",
              "      <td>17.3</td>\n",
              "      <td>0.479</td>\n",
              "      <td>10.1</td>\n",
              "    </tr>\n",
              "    <tr>\n",
              "      <th>1</th>\n",
              "      <td>Afghanistan</td>\n",
              "      <td>2014</td>\n",
              "      <td>Developing</td>\n",
              "      <td>59.9</td>\n",
              "      <td>271.0</td>\n",
              "      <td>64</td>\n",
              "      <td>0.01</td>\n",
              "      <td>73.523582</td>\n",
              "      <td>62.0</td>\n",
              "      <td>492</td>\n",
              "      <td>18.6</td>\n",
              "      <td>86</td>\n",
              "      <td>58.0</td>\n",
              "      <td>8.18</td>\n",
              "      <td>62.0</td>\n",
              "      <td>0.1</td>\n",
              "      <td>612.696514</td>\n",
              "      <td>327582.0</td>\n",
              "      <td>17.5</td>\n",
              "      <td>17.5</td>\n",
              "      <td>0.476</td>\n",
              "      <td>10.0</td>\n",
              "    </tr>\n",
              "    <tr>\n",
              "      <th>2</th>\n",
              "      <td>Afghanistan</td>\n",
              "      <td>2013</td>\n",
              "      <td>Developing</td>\n",
              "      <td>59.9</td>\n",
              "      <td>268.0</td>\n",
              "      <td>66</td>\n",
              "      <td>0.01</td>\n",
              "      <td>73.219243</td>\n",
              "      <td>64.0</td>\n",
              "      <td>430</td>\n",
              "      <td>18.1</td>\n",
              "      <td>89</td>\n",
              "      <td>62.0</td>\n",
              "      <td>8.13</td>\n",
              "      <td>64.0</td>\n",
              "      <td>0.1</td>\n",
              "      <td>631.744976</td>\n",
              "      <td>31731688.0</td>\n",
              "      <td>17.7</td>\n",
              "      <td>17.7</td>\n",
              "      <td>0.470</td>\n",
              "      <td>9.9</td>\n",
              "    </tr>\n",
              "    <tr>\n",
              "      <th>3</th>\n",
              "      <td>Afghanistan</td>\n",
              "      <td>2012</td>\n",
              "      <td>Developing</td>\n",
              "      <td>59.5</td>\n",
              "      <td>272.0</td>\n",
              "      <td>69</td>\n",
              "      <td>0.01</td>\n",
              "      <td>78.184215</td>\n",
              "      <td>67.0</td>\n",
              "      <td>2787</td>\n",
              "      <td>17.6</td>\n",
              "      <td>93</td>\n",
              "      <td>67.0</td>\n",
              "      <td>8.52</td>\n",
              "      <td>67.0</td>\n",
              "      <td>0.1</td>\n",
              "      <td>669.959000</td>\n",
              "      <td>3696958.0</td>\n",
              "      <td>17.9</td>\n",
              "      <td>18.0</td>\n",
              "      <td>0.463</td>\n",
              "      <td>9.8</td>\n",
              "    </tr>\n",
              "    <tr>\n",
              "      <th>4</th>\n",
              "      <td>Afghanistan</td>\n",
              "      <td>2011</td>\n",
              "      <td>Developing</td>\n",
              "      <td>59.2</td>\n",
              "      <td>275.0</td>\n",
              "      <td>71</td>\n",
              "      <td>0.01</td>\n",
              "      <td>7.097109</td>\n",
              "      <td>68.0</td>\n",
              "      <td>3013</td>\n",
              "      <td>17.2</td>\n",
              "      <td>97</td>\n",
              "      <td>68.0</td>\n",
              "      <td>7.87</td>\n",
              "      <td>68.0</td>\n",
              "      <td>0.1</td>\n",
              "      <td>63.537231</td>\n",
              "      <td>2978599.0</td>\n",
              "      <td>18.2</td>\n",
              "      <td>18.2</td>\n",
              "      <td>0.454</td>\n",
              "      <td>9.5</td>\n",
              "    </tr>\n",
              "  </tbody>\n",
              "</table>\n",
              "</div>"
            ],
            "text/plain": [
              "       Country  Year  ... Income composition of resources  Schooling\n",
              "0  Afghanistan  2015  ...                           0.479       10.1\n",
              "1  Afghanistan  2014  ...                           0.476       10.0\n",
              "2  Afghanistan  2013  ...                           0.470        9.9\n",
              "3  Afghanistan  2012  ...                           0.463        9.8\n",
              "4  Afghanistan  2011  ...                           0.454        9.5\n",
              "\n",
              "[5 rows x 22 columns]"
            ]
          },
          "metadata": {
            "tags": []
          },
          "execution_count": 20
        }
      ]
    },
    {
      "cell_type": "markdown",
      "metadata": {
        "id": "4Wi7NvsAt3qy"
      },
      "source": [
        "As some column names may seem ambigiuous, here is a full discription of each column:\n",
        "* Country: Country\n",
        "* Year: Year\n",
        "* Status: Developed and developing status\n",
        "* Life expectancy: Life expectancy in age\n",
        "* Adult Mortality: Adult Mortality Rates of both sexes (probability of dying between 15 and 60 years per 1000 population)\n",
        "* infant deaths: Number of Infant Deaths per 1000 population\n",
        "* Alcohol: Alcohol, recorded per capita (15+) consumption (in litres of pure alcohol)\n",
        "* percentage expenditure: Expenditure on health as a percentage of Gross Domestic Product per capita(%)\n",
        "* Hepatitis B: Hepatitis B (HepB) immunization coverage among 1-year-olds (%)\n",
        "* Measles: Measles - number of reported cases per 1000 population\n",
        "* BMI: Average Body Mass Index of entire population\n",
        "* under_five deaths: Number of under-five deaths per 1000 population\n",
        "* Polio: Polio (Pol3) immunization coverage among 1-year-olds (%)\n",
        "* total expenditure: General government expenditure on health as a percentage of total government expenditure (%)\n",
        "* Diphtheria: Diphtheria tetanus toxoid and pertussis (DTP3) immunization coverage among 1-year-olds (%)\n",
        "* HIV/AIDS: Deaths per 1 000 live births HIV/AIDS (0-4 years)\n",
        "* GDP: Gross Domestic Product per capita (in USD)\n",
        "* Population: Population of the country\n",
        "* thinness 1-19 years: Prevalence of thinness among children and adolescents for Age 10 to 19 (% )\n",
        "* thinness 5-9 years: Prevalence of thinness among children for Age 5 to 9(%)\n",
        "* Income composition of resources: Human Development Index in terms of income composition of resources (index ranging from 0 to 1)\n",
        "* Schooling: Number of years of Schooling(years)"
      ]
    },
    {
      "cell_type": "code",
      "metadata": {
        "colab": {
          "base_uri": "https://localhost:8080/"
        },
        "id": "t7hlou2_JNee",
        "outputId": "2fd9ec21-346d-4e09-8b76-582640865c9f"
      },
      "source": [
        "df.columns"
      ],
      "execution_count": 21,
      "outputs": [
        {
          "output_type": "execute_result",
          "data": {
            "text/plain": [
              "Index(['Country', 'Year', 'Status', 'Life expectancy ', 'Adult Mortality',\n",
              "       'infant deaths', 'Alcohol', 'percentage expenditure', 'Hepatitis B',\n",
              "       'Measles ', ' BMI ', 'under-five deaths ', 'Polio', 'Total expenditure',\n",
              "       'Diphtheria ', ' HIV/AIDS', 'GDP', 'Population',\n",
              "       ' thinness  1-19 years', ' thinness 5-9 years',\n",
              "       'Income composition of resources', 'Schooling'],\n",
              "      dtype='object')"
            ]
          },
          "metadata": {
            "tags": []
          },
          "execution_count": 21
        }
      ]
    },
    {
      "cell_type": "code",
      "metadata": {
        "id": "keXnslCstr6_"
      },
      "source": [
        "#to make column names more unifirm we will make all column names start with capital letters\n",
        "df.rename(columns = {'Life expectancy ': 'Life Expectancy', 'infant deaths': 'Infant Deaths', 'percentage expenditure': 'Percentage Expenditure',\n",
        "                    'under-five deaths ': 'Under-five Deaths', 'Total expenditure': 'Total Expenditure', ' thinness  1-19 years': 'Thinness 10-19 Years'\n",
        "                    , ' thinness 5-9 years': 'Thinness 5-9 Years', 'Income composition of resources': 'Income Composition of Resources' }, \n",
        "          inplace = True)"
      ],
      "execution_count": 22,
      "outputs": []
    },
    {
      "cell_type": "code",
      "metadata": {
        "colab": {
          "base_uri": "https://localhost:8080/",
          "height": 734
        },
        "id": "hYlDFMzJI6w6",
        "outputId": "332f9ff3-09b3-4bc3-cc1a-8d14f0851e05"
      },
      "source": [
        "df.head(20)"
      ],
      "execution_count": 23,
      "outputs": [
        {
          "output_type": "execute_result",
          "data": {
            "text/html": [
              "<div>\n",
              "<style scoped>\n",
              "    .dataframe tbody tr th:only-of-type {\n",
              "        vertical-align: middle;\n",
              "    }\n",
              "\n",
              "    .dataframe tbody tr th {\n",
              "        vertical-align: top;\n",
              "    }\n",
              "\n",
              "    .dataframe thead th {\n",
              "        text-align: right;\n",
              "    }\n",
              "</style>\n",
              "<table border=\"1\" class=\"dataframe\">\n",
              "  <thead>\n",
              "    <tr style=\"text-align: right;\">\n",
              "      <th></th>\n",
              "      <th>Country</th>\n",
              "      <th>Year</th>\n",
              "      <th>Status</th>\n",
              "      <th>Life Expectancy</th>\n",
              "      <th>Adult Mortality</th>\n",
              "      <th>Infant Deaths</th>\n",
              "      <th>Alcohol</th>\n",
              "      <th>Percentage Expenditure</th>\n",
              "      <th>Hepatitis B</th>\n",
              "      <th>Measles</th>\n",
              "      <th>BMI</th>\n",
              "      <th>Under-five Deaths</th>\n",
              "      <th>Polio</th>\n",
              "      <th>Total Expenditure</th>\n",
              "      <th>Diphtheria</th>\n",
              "      <th>HIV/AIDS</th>\n",
              "      <th>GDP</th>\n",
              "      <th>Population</th>\n",
              "      <th>Thinness 10-19 Years</th>\n",
              "      <th>Thinness 5-9 Years</th>\n",
              "      <th>Income Composition of Resources</th>\n",
              "      <th>Schooling</th>\n",
              "    </tr>\n",
              "  </thead>\n",
              "  <tbody>\n",
              "    <tr>\n",
              "      <th>0</th>\n",
              "      <td>Afghanistan</td>\n",
              "      <td>2015</td>\n",
              "      <td>Developing</td>\n",
              "      <td>65.0</td>\n",
              "      <td>263.0</td>\n",
              "      <td>62</td>\n",
              "      <td>0.01</td>\n",
              "      <td>71.279624</td>\n",
              "      <td>65.0</td>\n",
              "      <td>1154</td>\n",
              "      <td>19.1</td>\n",
              "      <td>83</td>\n",
              "      <td>6.0</td>\n",
              "      <td>8.16</td>\n",
              "      <td>65.0</td>\n",
              "      <td>0.1</td>\n",
              "      <td>584.259210</td>\n",
              "      <td>33736494.0</td>\n",
              "      <td>17.2</td>\n",
              "      <td>17.3</td>\n",
              "      <td>0.479</td>\n",
              "      <td>10.1</td>\n",
              "    </tr>\n",
              "    <tr>\n",
              "      <th>1</th>\n",
              "      <td>Afghanistan</td>\n",
              "      <td>2014</td>\n",
              "      <td>Developing</td>\n",
              "      <td>59.9</td>\n",
              "      <td>271.0</td>\n",
              "      <td>64</td>\n",
              "      <td>0.01</td>\n",
              "      <td>73.523582</td>\n",
              "      <td>62.0</td>\n",
              "      <td>492</td>\n",
              "      <td>18.6</td>\n",
              "      <td>86</td>\n",
              "      <td>58.0</td>\n",
              "      <td>8.18</td>\n",
              "      <td>62.0</td>\n",
              "      <td>0.1</td>\n",
              "      <td>612.696514</td>\n",
              "      <td>327582.0</td>\n",
              "      <td>17.5</td>\n",
              "      <td>17.5</td>\n",
              "      <td>0.476</td>\n",
              "      <td>10.0</td>\n",
              "    </tr>\n",
              "    <tr>\n",
              "      <th>2</th>\n",
              "      <td>Afghanistan</td>\n",
              "      <td>2013</td>\n",
              "      <td>Developing</td>\n",
              "      <td>59.9</td>\n",
              "      <td>268.0</td>\n",
              "      <td>66</td>\n",
              "      <td>0.01</td>\n",
              "      <td>73.219243</td>\n",
              "      <td>64.0</td>\n",
              "      <td>430</td>\n",
              "      <td>18.1</td>\n",
              "      <td>89</td>\n",
              "      <td>62.0</td>\n",
              "      <td>8.13</td>\n",
              "      <td>64.0</td>\n",
              "      <td>0.1</td>\n",
              "      <td>631.744976</td>\n",
              "      <td>31731688.0</td>\n",
              "      <td>17.7</td>\n",
              "      <td>17.7</td>\n",
              "      <td>0.470</td>\n",
              "      <td>9.9</td>\n",
              "    </tr>\n",
              "    <tr>\n",
              "      <th>3</th>\n",
              "      <td>Afghanistan</td>\n",
              "      <td>2012</td>\n",
              "      <td>Developing</td>\n",
              "      <td>59.5</td>\n",
              "      <td>272.0</td>\n",
              "      <td>69</td>\n",
              "      <td>0.01</td>\n",
              "      <td>78.184215</td>\n",
              "      <td>67.0</td>\n",
              "      <td>2787</td>\n",
              "      <td>17.6</td>\n",
              "      <td>93</td>\n",
              "      <td>67.0</td>\n",
              "      <td>8.52</td>\n",
              "      <td>67.0</td>\n",
              "      <td>0.1</td>\n",
              "      <td>669.959000</td>\n",
              "      <td>3696958.0</td>\n",
              "      <td>17.9</td>\n",
              "      <td>18.0</td>\n",
              "      <td>0.463</td>\n",
              "      <td>9.8</td>\n",
              "    </tr>\n",
              "    <tr>\n",
              "      <th>4</th>\n",
              "      <td>Afghanistan</td>\n",
              "      <td>2011</td>\n",
              "      <td>Developing</td>\n",
              "      <td>59.2</td>\n",
              "      <td>275.0</td>\n",
              "      <td>71</td>\n",
              "      <td>0.01</td>\n",
              "      <td>7.097109</td>\n",
              "      <td>68.0</td>\n",
              "      <td>3013</td>\n",
              "      <td>17.2</td>\n",
              "      <td>97</td>\n",
              "      <td>68.0</td>\n",
              "      <td>7.87</td>\n",
              "      <td>68.0</td>\n",
              "      <td>0.1</td>\n",
              "      <td>63.537231</td>\n",
              "      <td>2978599.0</td>\n",
              "      <td>18.2</td>\n",
              "      <td>18.2</td>\n",
              "      <td>0.454</td>\n",
              "      <td>9.5</td>\n",
              "    </tr>\n",
              "    <tr>\n",
              "      <th>5</th>\n",
              "      <td>Afghanistan</td>\n",
              "      <td>2010</td>\n",
              "      <td>Developing</td>\n",
              "      <td>58.8</td>\n",
              "      <td>279.0</td>\n",
              "      <td>74</td>\n",
              "      <td>0.01</td>\n",
              "      <td>79.679367</td>\n",
              "      <td>66.0</td>\n",
              "      <td>1989</td>\n",
              "      <td>16.7</td>\n",
              "      <td>102</td>\n",
              "      <td>66.0</td>\n",
              "      <td>9.20</td>\n",
              "      <td>66.0</td>\n",
              "      <td>0.1</td>\n",
              "      <td>553.328940</td>\n",
              "      <td>2883167.0</td>\n",
              "      <td>18.4</td>\n",
              "      <td>18.4</td>\n",
              "      <td>0.448</td>\n",
              "      <td>9.2</td>\n",
              "    </tr>\n",
              "    <tr>\n",
              "      <th>6</th>\n",
              "      <td>Afghanistan</td>\n",
              "      <td>2009</td>\n",
              "      <td>Developing</td>\n",
              "      <td>58.6</td>\n",
              "      <td>281.0</td>\n",
              "      <td>77</td>\n",
              "      <td>0.01</td>\n",
              "      <td>56.762217</td>\n",
              "      <td>63.0</td>\n",
              "      <td>2861</td>\n",
              "      <td>16.2</td>\n",
              "      <td>106</td>\n",
              "      <td>63.0</td>\n",
              "      <td>9.42</td>\n",
              "      <td>63.0</td>\n",
              "      <td>0.1</td>\n",
              "      <td>445.893298</td>\n",
              "      <td>284331.0</td>\n",
              "      <td>18.6</td>\n",
              "      <td>18.7</td>\n",
              "      <td>0.434</td>\n",
              "      <td>8.9</td>\n",
              "    </tr>\n",
              "    <tr>\n",
              "      <th>7</th>\n",
              "      <td>Afghanistan</td>\n",
              "      <td>2008</td>\n",
              "      <td>Developing</td>\n",
              "      <td>58.1</td>\n",
              "      <td>287.0</td>\n",
              "      <td>80</td>\n",
              "      <td>0.03</td>\n",
              "      <td>25.873925</td>\n",
              "      <td>64.0</td>\n",
              "      <td>1599</td>\n",
              "      <td>15.7</td>\n",
              "      <td>110</td>\n",
              "      <td>64.0</td>\n",
              "      <td>8.33</td>\n",
              "      <td>64.0</td>\n",
              "      <td>0.1</td>\n",
              "      <td>373.361116</td>\n",
              "      <td>2729431.0</td>\n",
              "      <td>18.8</td>\n",
              "      <td>18.9</td>\n",
              "      <td>0.433</td>\n",
              "      <td>8.7</td>\n",
              "    </tr>\n",
              "    <tr>\n",
              "      <th>8</th>\n",
              "      <td>Afghanistan</td>\n",
              "      <td>2007</td>\n",
              "      <td>Developing</td>\n",
              "      <td>57.5</td>\n",
              "      <td>295.0</td>\n",
              "      <td>82</td>\n",
              "      <td>0.02</td>\n",
              "      <td>10.910156</td>\n",
              "      <td>63.0</td>\n",
              "      <td>1141</td>\n",
              "      <td>15.2</td>\n",
              "      <td>113</td>\n",
              "      <td>63.0</td>\n",
              "      <td>6.73</td>\n",
              "      <td>63.0</td>\n",
              "      <td>0.1</td>\n",
              "      <td>369.835796</td>\n",
              "      <td>26616792.0</td>\n",
              "      <td>19.0</td>\n",
              "      <td>19.1</td>\n",
              "      <td>0.415</td>\n",
              "      <td>8.4</td>\n",
              "    </tr>\n",
              "    <tr>\n",
              "      <th>9</th>\n",
              "      <td>Afghanistan</td>\n",
              "      <td>2006</td>\n",
              "      <td>Developing</td>\n",
              "      <td>57.3</td>\n",
              "      <td>295.0</td>\n",
              "      <td>84</td>\n",
              "      <td>0.03</td>\n",
              "      <td>17.171518</td>\n",
              "      <td>64.0</td>\n",
              "      <td>1990</td>\n",
              "      <td>14.7</td>\n",
              "      <td>116</td>\n",
              "      <td>58.0</td>\n",
              "      <td>7.43</td>\n",
              "      <td>58.0</td>\n",
              "      <td>0.1</td>\n",
              "      <td>272.563770</td>\n",
              "      <td>2589345.0</td>\n",
              "      <td>19.2</td>\n",
              "      <td>19.3</td>\n",
              "      <td>0.405</td>\n",
              "      <td>8.1</td>\n",
              "    </tr>\n",
              "    <tr>\n",
              "      <th>10</th>\n",
              "      <td>Afghanistan</td>\n",
              "      <td>2005</td>\n",
              "      <td>Developing</td>\n",
              "      <td>57.3</td>\n",
              "      <td>291.0</td>\n",
              "      <td>85</td>\n",
              "      <td>0.02</td>\n",
              "      <td>1.388648</td>\n",
              "      <td>66.0</td>\n",
              "      <td>1296</td>\n",
              "      <td>14.2</td>\n",
              "      <td>118</td>\n",
              "      <td>58.0</td>\n",
              "      <td>8.70</td>\n",
              "      <td>58.0</td>\n",
              "      <td>0.1</td>\n",
              "      <td>25.294130</td>\n",
              "      <td>257798.0</td>\n",
              "      <td>19.3</td>\n",
              "      <td>19.5</td>\n",
              "      <td>0.396</td>\n",
              "      <td>7.9</td>\n",
              "    </tr>\n",
              "    <tr>\n",
              "      <th>11</th>\n",
              "      <td>Afghanistan</td>\n",
              "      <td>2004</td>\n",
              "      <td>Developing</td>\n",
              "      <td>57.0</td>\n",
              "      <td>293.0</td>\n",
              "      <td>87</td>\n",
              "      <td>0.02</td>\n",
              "      <td>15.296066</td>\n",
              "      <td>67.0</td>\n",
              "      <td>466</td>\n",
              "      <td>13.8</td>\n",
              "      <td>120</td>\n",
              "      <td>5.0</td>\n",
              "      <td>8.79</td>\n",
              "      <td>5.0</td>\n",
              "      <td>0.1</td>\n",
              "      <td>219.141353</td>\n",
              "      <td>24118979.0</td>\n",
              "      <td>19.5</td>\n",
              "      <td>19.7</td>\n",
              "      <td>0.381</td>\n",
              "      <td>6.8</td>\n",
              "    </tr>\n",
              "    <tr>\n",
              "      <th>12</th>\n",
              "      <td>Afghanistan</td>\n",
              "      <td>2003</td>\n",
              "      <td>Developing</td>\n",
              "      <td>56.7</td>\n",
              "      <td>295.0</td>\n",
              "      <td>87</td>\n",
              "      <td>0.01</td>\n",
              "      <td>11.089053</td>\n",
              "      <td>65.0</td>\n",
              "      <td>798</td>\n",
              "      <td>13.4</td>\n",
              "      <td>122</td>\n",
              "      <td>41.0</td>\n",
              "      <td>8.82</td>\n",
              "      <td>41.0</td>\n",
              "      <td>0.1</td>\n",
              "      <td>198.728544</td>\n",
              "      <td>2364851.0</td>\n",
              "      <td>19.7</td>\n",
              "      <td>19.9</td>\n",
              "      <td>0.373</td>\n",
              "      <td>6.5</td>\n",
              "    </tr>\n",
              "    <tr>\n",
              "      <th>13</th>\n",
              "      <td>Afghanistan</td>\n",
              "      <td>2002</td>\n",
              "      <td>Developing</td>\n",
              "      <td>56.2</td>\n",
              "      <td>3.0</td>\n",
              "      <td>88</td>\n",
              "      <td>0.01</td>\n",
              "      <td>16.887351</td>\n",
              "      <td>64.0</td>\n",
              "      <td>2486</td>\n",
              "      <td>13.0</td>\n",
              "      <td>122</td>\n",
              "      <td>36.0</td>\n",
              "      <td>7.76</td>\n",
              "      <td>36.0</td>\n",
              "      <td>0.1</td>\n",
              "      <td>187.845950</td>\n",
              "      <td>21979923.0</td>\n",
              "      <td>19.9</td>\n",
              "      <td>2.2</td>\n",
              "      <td>0.341</td>\n",
              "      <td>6.2</td>\n",
              "    </tr>\n",
              "    <tr>\n",
              "      <th>14</th>\n",
              "      <td>Afghanistan</td>\n",
              "      <td>2001</td>\n",
              "      <td>Developing</td>\n",
              "      <td>55.3</td>\n",
              "      <td>316.0</td>\n",
              "      <td>88</td>\n",
              "      <td>0.01</td>\n",
              "      <td>10.574728</td>\n",
              "      <td>63.0</td>\n",
              "      <td>8762</td>\n",
              "      <td>12.6</td>\n",
              "      <td>122</td>\n",
              "      <td>35.0</td>\n",
              "      <td>7.80</td>\n",
              "      <td>33.0</td>\n",
              "      <td>0.1</td>\n",
              "      <td>117.496980</td>\n",
              "      <td>2966463.0</td>\n",
              "      <td>2.1</td>\n",
              "      <td>2.4</td>\n",
              "      <td>0.340</td>\n",
              "      <td>5.9</td>\n",
              "    </tr>\n",
              "    <tr>\n",
              "      <th>15</th>\n",
              "      <td>Afghanistan</td>\n",
              "      <td>2000</td>\n",
              "      <td>Developing</td>\n",
              "      <td>54.8</td>\n",
              "      <td>321.0</td>\n",
              "      <td>88</td>\n",
              "      <td>0.01</td>\n",
              "      <td>10.424960</td>\n",
              "      <td>62.0</td>\n",
              "      <td>6532</td>\n",
              "      <td>12.2</td>\n",
              "      <td>122</td>\n",
              "      <td>24.0</td>\n",
              "      <td>8.20</td>\n",
              "      <td>24.0</td>\n",
              "      <td>0.1</td>\n",
              "      <td>114.560000</td>\n",
              "      <td>293756.0</td>\n",
              "      <td>2.3</td>\n",
              "      <td>2.5</td>\n",
              "      <td>0.338</td>\n",
              "      <td>5.5</td>\n",
              "    </tr>\n",
              "    <tr>\n",
              "      <th>16</th>\n",
              "      <td>Albania</td>\n",
              "      <td>2015</td>\n",
              "      <td>Developing</td>\n",
              "      <td>77.8</td>\n",
              "      <td>74.0</td>\n",
              "      <td>0</td>\n",
              "      <td>4.60</td>\n",
              "      <td>364.975229</td>\n",
              "      <td>99.0</td>\n",
              "      <td>0</td>\n",
              "      <td>58.0</td>\n",
              "      <td>0</td>\n",
              "      <td>99.0</td>\n",
              "      <td>6.00</td>\n",
              "      <td>99.0</td>\n",
              "      <td>0.1</td>\n",
              "      <td>3954.227830</td>\n",
              "      <td>28873.0</td>\n",
              "      <td>1.2</td>\n",
              "      <td>1.3</td>\n",
              "      <td>0.762</td>\n",
              "      <td>14.2</td>\n",
              "    </tr>\n",
              "    <tr>\n",
              "      <th>17</th>\n",
              "      <td>Albania</td>\n",
              "      <td>2014</td>\n",
              "      <td>Developing</td>\n",
              "      <td>77.5</td>\n",
              "      <td>8.0</td>\n",
              "      <td>0</td>\n",
              "      <td>4.51</td>\n",
              "      <td>428.749067</td>\n",
              "      <td>98.0</td>\n",
              "      <td>0</td>\n",
              "      <td>57.2</td>\n",
              "      <td>1</td>\n",
              "      <td>98.0</td>\n",
              "      <td>5.88</td>\n",
              "      <td>98.0</td>\n",
              "      <td>0.1</td>\n",
              "      <td>4575.763787</td>\n",
              "      <td>288914.0</td>\n",
              "      <td>1.2</td>\n",
              "      <td>1.3</td>\n",
              "      <td>0.761</td>\n",
              "      <td>14.2</td>\n",
              "    </tr>\n",
              "    <tr>\n",
              "      <th>18</th>\n",
              "      <td>Albania</td>\n",
              "      <td>2013</td>\n",
              "      <td>Developing</td>\n",
              "      <td>77.2</td>\n",
              "      <td>84.0</td>\n",
              "      <td>0</td>\n",
              "      <td>4.76</td>\n",
              "      <td>430.876979</td>\n",
              "      <td>99.0</td>\n",
              "      <td>0</td>\n",
              "      <td>56.5</td>\n",
              "      <td>1</td>\n",
              "      <td>99.0</td>\n",
              "      <td>5.66</td>\n",
              "      <td>99.0</td>\n",
              "      <td>0.1</td>\n",
              "      <td>4414.723140</td>\n",
              "      <td>289592.0</td>\n",
              "      <td>1.3</td>\n",
              "      <td>1.4</td>\n",
              "      <td>0.759</td>\n",
              "      <td>14.2</td>\n",
              "    </tr>\n",
              "    <tr>\n",
              "      <th>19</th>\n",
              "      <td>Albania</td>\n",
              "      <td>2012</td>\n",
              "      <td>Developing</td>\n",
              "      <td>76.9</td>\n",
              "      <td>86.0</td>\n",
              "      <td>0</td>\n",
              "      <td>5.14</td>\n",
              "      <td>412.443356</td>\n",
              "      <td>99.0</td>\n",
              "      <td>9</td>\n",
              "      <td>55.8</td>\n",
              "      <td>1</td>\n",
              "      <td>99.0</td>\n",
              "      <td>5.59</td>\n",
              "      <td>99.0</td>\n",
              "      <td>0.1</td>\n",
              "      <td>4247.614380</td>\n",
              "      <td>2941.0</td>\n",
              "      <td>1.3</td>\n",
              "      <td>1.4</td>\n",
              "      <td>0.752</td>\n",
              "      <td>14.2</td>\n",
              "    </tr>\n",
              "  </tbody>\n",
              "</table>\n",
              "</div>"
            ],
            "text/plain": [
              "        Country  Year  ... Income Composition of Resources  Schooling\n",
              "0   Afghanistan  2015  ...                           0.479       10.1\n",
              "1   Afghanistan  2014  ...                           0.476       10.0\n",
              "2   Afghanistan  2013  ...                           0.470        9.9\n",
              "3   Afghanistan  2012  ...                           0.463        9.8\n",
              "4   Afghanistan  2011  ...                           0.454        9.5\n",
              "5   Afghanistan  2010  ...                           0.448        9.2\n",
              "6   Afghanistan  2009  ...                           0.434        8.9\n",
              "7   Afghanistan  2008  ...                           0.433        8.7\n",
              "8   Afghanistan  2007  ...                           0.415        8.4\n",
              "9   Afghanistan  2006  ...                           0.405        8.1\n",
              "10  Afghanistan  2005  ...                           0.396        7.9\n",
              "11  Afghanistan  2004  ...                           0.381        6.8\n",
              "12  Afghanistan  2003  ...                           0.373        6.5\n",
              "13  Afghanistan  2002  ...                           0.341        6.2\n",
              "14  Afghanistan  2001  ...                           0.340        5.9\n",
              "15  Afghanistan  2000  ...                           0.338        5.5\n",
              "16      Albania  2015  ...                           0.762       14.2\n",
              "17      Albania  2014  ...                           0.761       14.2\n",
              "18      Albania  2013  ...                           0.759       14.2\n",
              "19      Albania  2012  ...                           0.752       14.2\n",
              "\n",
              "[20 rows x 22 columns]"
            ]
          },
          "metadata": {
            "tags": []
          },
          "execution_count": 23
        }
      ]
    },
    {
      "cell_type": "code",
      "metadata": {
        "colab": {
          "base_uri": "https://localhost:8080/"
        },
        "id": "QSU9nW1FH__H",
        "outputId": "6cdd684a-c074-4e5b-add1-9ce1cf98bd48"
      },
      "source": [
        "for column in df.columns:\n",
        "  print(df[column].isnull().value_counts().to_frame())"
      ],
      "execution_count": 24,
      "outputs": [
        {
          "output_type": "stream",
          "text": [
            "       Country\n",
            "False     2938\n",
            "       Year\n",
            "False  2938\n",
            "       Status\n",
            "False    2938\n",
            "       Life Expectancy\n",
            "False             2928\n",
            "True                10\n",
            "       Adult Mortality\n",
            "False             2928\n",
            "True                10\n",
            "       Infant Deaths\n",
            "False           2938\n",
            "       Alcohol\n",
            "False     2744\n",
            "True       194\n",
            "       Percentage Expenditure\n",
            "False                    2938\n",
            "       Hepatitis B\n",
            "False         2385\n",
            "True           553\n",
            "       Measles \n",
            "False      2938\n",
            "        BMI \n",
            "False   2904\n",
            "True      34\n",
            "       Under-five Deaths\n",
            "False               2938\n",
            "       Polio\n",
            "False   2919\n",
            "True      19\n",
            "       Total Expenditure\n",
            "False               2712\n",
            "True                 226\n",
            "       Diphtheria \n",
            "False         2919\n",
            "True            19\n",
            "        HIV/AIDS\n",
            "False       2938\n",
            "        GDP\n",
            "False  2490\n",
            "True    448\n",
            "       Population\n",
            "False        2286\n",
            "True          652\n",
            "       Thinness 10-19 Years\n",
            "False                  2904\n",
            "True                     34\n",
            "       Thinness 5-9 Years\n",
            "False                2904\n",
            "True                   34\n",
            "       Income Composition of Resources\n",
            "False                             2771\n",
            "True                               167\n",
            "       Schooling\n",
            "False       2775\n",
            "True         163\n"
          ],
          "name": "stdout"
        }
      ]
    },
    {
      "cell_type": "code",
      "metadata": {
        "colab": {
          "base_uri": "https://localhost:8080/"
        },
        "id": "H2PcoJZi9nHS",
        "outputId": "c4f26b1a-6214-4120-de9d-0e92d2f10168"
      },
      "source": [
        "df.index.size"
      ],
      "execution_count": 25,
      "outputs": [
        {
          "output_type": "execute_result",
          "data": {
            "text/plain": [
              "2938"
            ]
          },
          "metadata": {
            "tags": []
          },
          "execution_count": 25
        }
      ]
    },
    {
      "cell_type": "code",
      "metadata": {
        "id": "6iUaEeSr9D8b"
      },
      "source": [
        "#we will drop all the missing values\n",
        "df.dropna(subset = df.columns, axis = 0, inplace = True)"
      ],
      "execution_count": 26,
      "outputs": []
    },
    {
      "cell_type": "code",
      "metadata": {
        "colab": {
          "base_uri": "https://localhost:8080/"
        },
        "id": "GTMMzrtk9aAq",
        "outputId": "774fed4a-fb73-4523-bd7b-931b0770c91c"
      },
      "source": [
        "df.index.size"
      ],
      "execution_count": 27,
      "outputs": [
        {
          "output_type": "execute_result",
          "data": {
            "text/plain": [
              "1649"
            ]
          },
          "metadata": {
            "tags": []
          },
          "execution_count": 27
        }
      ]
    },
    {
      "cell_type": "code",
      "metadata": {
        "colab": {
          "base_uri": "https://localhost:8080/",
          "height": 366
        },
        "id": "CVYTsW5HI9gA",
        "outputId": "7cfc6dd7-8285-4552-b6bd-bff16f3230f7"
      },
      "source": [
        "df.describe()"
      ],
      "execution_count": 28,
      "outputs": [
        {
          "output_type": "execute_result",
          "data": {
            "text/html": [
              "<div>\n",
              "<style scoped>\n",
              "    .dataframe tbody tr th:only-of-type {\n",
              "        vertical-align: middle;\n",
              "    }\n",
              "\n",
              "    .dataframe tbody tr th {\n",
              "        vertical-align: top;\n",
              "    }\n",
              "\n",
              "    .dataframe thead th {\n",
              "        text-align: right;\n",
              "    }\n",
              "</style>\n",
              "<table border=\"1\" class=\"dataframe\">\n",
              "  <thead>\n",
              "    <tr style=\"text-align: right;\">\n",
              "      <th></th>\n",
              "      <th>Year</th>\n",
              "      <th>Life Expectancy</th>\n",
              "      <th>Adult Mortality</th>\n",
              "      <th>Infant Deaths</th>\n",
              "      <th>Alcohol</th>\n",
              "      <th>Percentage Expenditure</th>\n",
              "      <th>Hepatitis B</th>\n",
              "      <th>Measles</th>\n",
              "      <th>BMI</th>\n",
              "      <th>Under-five Deaths</th>\n",
              "      <th>Polio</th>\n",
              "      <th>Total Expenditure</th>\n",
              "      <th>Diphtheria</th>\n",
              "      <th>HIV/AIDS</th>\n",
              "      <th>GDP</th>\n",
              "      <th>Population</th>\n",
              "      <th>Thinness 10-19 Years</th>\n",
              "      <th>Thinness 5-9 Years</th>\n",
              "      <th>Income Composition of Resources</th>\n",
              "      <th>Schooling</th>\n",
              "    </tr>\n",
              "  </thead>\n",
              "  <tbody>\n",
              "    <tr>\n",
              "      <th>count</th>\n",
              "      <td>1649.000000</td>\n",
              "      <td>1649.000000</td>\n",
              "      <td>1649.000000</td>\n",
              "      <td>1649.000000</td>\n",
              "      <td>1649.000000</td>\n",
              "      <td>1649.000000</td>\n",
              "      <td>1649.000000</td>\n",
              "      <td>1649.000000</td>\n",
              "      <td>1649.000000</td>\n",
              "      <td>1649.000000</td>\n",
              "      <td>1649.000000</td>\n",
              "      <td>1649.000000</td>\n",
              "      <td>1649.000000</td>\n",
              "      <td>1649.000000</td>\n",
              "      <td>1649.000000</td>\n",
              "      <td>1.649000e+03</td>\n",
              "      <td>1649.000000</td>\n",
              "      <td>1649.000000</td>\n",
              "      <td>1649.000000</td>\n",
              "      <td>1649.000000</td>\n",
              "    </tr>\n",
              "    <tr>\n",
              "      <th>mean</th>\n",
              "      <td>2007.840509</td>\n",
              "      <td>69.302304</td>\n",
              "      <td>168.215282</td>\n",
              "      <td>32.553062</td>\n",
              "      <td>4.533196</td>\n",
              "      <td>698.973558</td>\n",
              "      <td>79.217708</td>\n",
              "      <td>2224.494239</td>\n",
              "      <td>38.128623</td>\n",
              "      <td>44.220133</td>\n",
              "      <td>83.564585</td>\n",
              "      <td>5.955925</td>\n",
              "      <td>84.155246</td>\n",
              "      <td>1.983869</td>\n",
              "      <td>5566.031887</td>\n",
              "      <td>1.465363e+07</td>\n",
              "      <td>4.850637</td>\n",
              "      <td>4.907762</td>\n",
              "      <td>0.631551</td>\n",
              "      <td>12.119891</td>\n",
              "    </tr>\n",
              "    <tr>\n",
              "      <th>std</th>\n",
              "      <td>4.087711</td>\n",
              "      <td>8.796834</td>\n",
              "      <td>125.310417</td>\n",
              "      <td>120.847190</td>\n",
              "      <td>4.029189</td>\n",
              "      <td>1759.229336</td>\n",
              "      <td>25.604664</td>\n",
              "      <td>10085.802019</td>\n",
              "      <td>19.754249</td>\n",
              "      <td>162.897999</td>\n",
              "      <td>22.450557</td>\n",
              "      <td>2.299385</td>\n",
              "      <td>21.579193</td>\n",
              "      <td>6.032360</td>\n",
              "      <td>11475.900117</td>\n",
              "      <td>7.046039e+07</td>\n",
              "      <td>4.599228</td>\n",
              "      <td>4.653757</td>\n",
              "      <td>0.183089</td>\n",
              "      <td>2.795388</td>\n",
              "    </tr>\n",
              "    <tr>\n",
              "      <th>min</th>\n",
              "      <td>2000.000000</td>\n",
              "      <td>44.000000</td>\n",
              "      <td>1.000000</td>\n",
              "      <td>0.000000</td>\n",
              "      <td>0.010000</td>\n",
              "      <td>0.000000</td>\n",
              "      <td>2.000000</td>\n",
              "      <td>0.000000</td>\n",
              "      <td>2.000000</td>\n",
              "      <td>0.000000</td>\n",
              "      <td>3.000000</td>\n",
              "      <td>0.740000</td>\n",
              "      <td>2.000000</td>\n",
              "      <td>0.100000</td>\n",
              "      <td>1.681350</td>\n",
              "      <td>3.400000e+01</td>\n",
              "      <td>0.100000</td>\n",
              "      <td>0.100000</td>\n",
              "      <td>0.000000</td>\n",
              "      <td>4.200000</td>\n",
              "    </tr>\n",
              "    <tr>\n",
              "      <th>25%</th>\n",
              "      <td>2005.000000</td>\n",
              "      <td>64.400000</td>\n",
              "      <td>77.000000</td>\n",
              "      <td>1.000000</td>\n",
              "      <td>0.810000</td>\n",
              "      <td>37.438577</td>\n",
              "      <td>74.000000</td>\n",
              "      <td>0.000000</td>\n",
              "      <td>19.500000</td>\n",
              "      <td>1.000000</td>\n",
              "      <td>81.000000</td>\n",
              "      <td>4.410000</td>\n",
              "      <td>82.000000</td>\n",
              "      <td>0.100000</td>\n",
              "      <td>462.149650</td>\n",
              "      <td>1.918970e+05</td>\n",
              "      <td>1.600000</td>\n",
              "      <td>1.700000</td>\n",
              "      <td>0.509000</td>\n",
              "      <td>10.300000</td>\n",
              "    </tr>\n",
              "    <tr>\n",
              "      <th>50%</th>\n",
              "      <td>2008.000000</td>\n",
              "      <td>71.700000</td>\n",
              "      <td>148.000000</td>\n",
              "      <td>3.000000</td>\n",
              "      <td>3.790000</td>\n",
              "      <td>145.102253</td>\n",
              "      <td>89.000000</td>\n",
              "      <td>15.000000</td>\n",
              "      <td>43.700000</td>\n",
              "      <td>4.000000</td>\n",
              "      <td>93.000000</td>\n",
              "      <td>5.840000</td>\n",
              "      <td>92.000000</td>\n",
              "      <td>0.100000</td>\n",
              "      <td>1592.572182</td>\n",
              "      <td>1.419631e+06</td>\n",
              "      <td>3.000000</td>\n",
              "      <td>3.200000</td>\n",
              "      <td>0.673000</td>\n",
              "      <td>12.300000</td>\n",
              "    </tr>\n",
              "    <tr>\n",
              "      <th>75%</th>\n",
              "      <td>2011.000000</td>\n",
              "      <td>75.000000</td>\n",
              "      <td>227.000000</td>\n",
              "      <td>22.000000</td>\n",
              "      <td>7.340000</td>\n",
              "      <td>509.389994</td>\n",
              "      <td>96.000000</td>\n",
              "      <td>373.000000</td>\n",
              "      <td>55.800000</td>\n",
              "      <td>29.000000</td>\n",
              "      <td>97.000000</td>\n",
              "      <td>7.470000</td>\n",
              "      <td>97.000000</td>\n",
              "      <td>0.700000</td>\n",
              "      <td>4718.512910</td>\n",
              "      <td>7.658972e+06</td>\n",
              "      <td>7.100000</td>\n",
              "      <td>7.100000</td>\n",
              "      <td>0.751000</td>\n",
              "      <td>14.000000</td>\n",
              "    </tr>\n",
              "    <tr>\n",
              "      <th>max</th>\n",
              "      <td>2015.000000</td>\n",
              "      <td>89.000000</td>\n",
              "      <td>723.000000</td>\n",
              "      <td>1600.000000</td>\n",
              "      <td>17.870000</td>\n",
              "      <td>18961.348600</td>\n",
              "      <td>99.000000</td>\n",
              "      <td>131441.000000</td>\n",
              "      <td>77.100000</td>\n",
              "      <td>2100.000000</td>\n",
              "      <td>99.000000</td>\n",
              "      <td>14.390000</td>\n",
              "      <td>99.000000</td>\n",
              "      <td>50.600000</td>\n",
              "      <td>119172.741800</td>\n",
              "      <td>1.293859e+09</td>\n",
              "      <td>27.200000</td>\n",
              "      <td>28.200000</td>\n",
              "      <td>0.936000</td>\n",
              "      <td>20.700000</td>\n",
              "    </tr>\n",
              "  </tbody>\n",
              "</table>\n",
              "</div>"
            ],
            "text/plain": [
              "              Year  ...    Schooling\n",
              "count  1649.000000  ...  1649.000000\n",
              "mean   2007.840509  ...    12.119891\n",
              "std       4.087711  ...     2.795388\n",
              "min    2000.000000  ...     4.200000\n",
              "25%    2005.000000  ...    10.300000\n",
              "50%    2008.000000  ...    12.300000\n",
              "75%    2011.000000  ...    14.000000\n",
              "max    2015.000000  ...    20.700000\n",
              "\n",
              "[8 rows x 20 columns]"
            ]
          },
          "metadata": {
            "tags": []
          },
          "execution_count": 28
        }
      ]
    },
    {
      "cell_type": "markdown",
      "metadata": {
        "id": "jqwfYJAH1NlX"
      },
      "source": [
        "### Finding the features that best influence life expectancy"
      ]
    },
    {
      "cell_type": "code",
      "metadata": {
        "colab": {
          "base_uri": "https://localhost:8080/",
          "height": 925
        },
        "id": "ndzEC0tvK_Go",
        "outputId": "d677e7cc-7506-4d07-ba45-5fad0df68b23"
      },
      "source": [
        "df.corr()"
      ],
      "execution_count": 30,
      "outputs": [
        {
          "output_type": "execute_result",
          "data": {
            "text/html": [
              "<div>\n",
              "<style scoped>\n",
              "    .dataframe tbody tr th:only-of-type {\n",
              "        vertical-align: middle;\n",
              "    }\n",
              "\n",
              "    .dataframe tbody tr th {\n",
              "        vertical-align: top;\n",
              "    }\n",
              "\n",
              "    .dataframe thead th {\n",
              "        text-align: right;\n",
              "    }\n",
              "</style>\n",
              "<table border=\"1\" class=\"dataframe\">\n",
              "  <thead>\n",
              "    <tr style=\"text-align: right;\">\n",
              "      <th></th>\n",
              "      <th>Year</th>\n",
              "      <th>Life Expectancy</th>\n",
              "      <th>Adult Mortality</th>\n",
              "      <th>Infant Deaths</th>\n",
              "      <th>Alcohol</th>\n",
              "      <th>Percentage Expenditure</th>\n",
              "      <th>Hepatitis B</th>\n",
              "      <th>Measles</th>\n",
              "      <th>BMI</th>\n",
              "      <th>Under-five Deaths</th>\n",
              "      <th>Polio</th>\n",
              "      <th>Total Expenditure</th>\n",
              "      <th>Diphtheria</th>\n",
              "      <th>HIV/AIDS</th>\n",
              "      <th>GDP</th>\n",
              "      <th>Population</th>\n",
              "      <th>Thinness 10-19 Years</th>\n",
              "      <th>Thinness 5-9 Years</th>\n",
              "      <th>Income Composition of Resources</th>\n",
              "      <th>Schooling</th>\n",
              "    </tr>\n",
              "  </thead>\n",
              "  <tbody>\n",
              "    <tr>\n",
              "      <th>Year</th>\n",
              "      <td>1.000000</td>\n",
              "      <td>0.050771</td>\n",
              "      <td>-0.037092</td>\n",
              "      <td>0.008029</td>\n",
              "      <td>-0.113365</td>\n",
              "      <td>0.069553</td>\n",
              "      <td>0.114897</td>\n",
              "      <td>-0.053822</td>\n",
              "      <td>0.005739</td>\n",
              "      <td>0.010479</td>\n",
              "      <td>-0.016699</td>\n",
              "      <td>0.059493</td>\n",
              "      <td>0.029641</td>\n",
              "      <td>-0.123405</td>\n",
              "      <td>0.096421</td>\n",
              "      <td>0.012567</td>\n",
              "      <td>0.019757</td>\n",
              "      <td>0.014122</td>\n",
              "      <td>0.122892</td>\n",
              "      <td>0.088732</td>\n",
              "    </tr>\n",
              "    <tr>\n",
              "      <th>Life Expectancy</th>\n",
              "      <td>0.050771</td>\n",
              "      <td>1.000000</td>\n",
              "      <td>-0.702523</td>\n",
              "      <td>-0.169074</td>\n",
              "      <td>0.402718</td>\n",
              "      <td>0.409631</td>\n",
              "      <td>0.199935</td>\n",
              "      <td>-0.068881</td>\n",
              "      <td>0.542042</td>\n",
              "      <td>-0.192265</td>\n",
              "      <td>0.327294</td>\n",
              "      <td>0.174718</td>\n",
              "      <td>0.341331</td>\n",
              "      <td>-0.592236</td>\n",
              "      <td>0.441322</td>\n",
              "      <td>-0.022305</td>\n",
              "      <td>-0.457838</td>\n",
              "      <td>-0.457508</td>\n",
              "      <td>0.721083</td>\n",
              "      <td>0.727630</td>\n",
              "    </tr>\n",
              "    <tr>\n",
              "      <th>Adult Mortality</th>\n",
              "      <td>-0.037092</td>\n",
              "      <td>-0.702523</td>\n",
              "      <td>1.000000</td>\n",
              "      <td>0.042450</td>\n",
              "      <td>-0.175535</td>\n",
              "      <td>-0.237610</td>\n",
              "      <td>-0.105225</td>\n",
              "      <td>-0.003967</td>\n",
              "      <td>-0.351542</td>\n",
              "      <td>0.060365</td>\n",
              "      <td>-0.199853</td>\n",
              "      <td>-0.085227</td>\n",
              "      <td>-0.191429</td>\n",
              "      <td>0.550691</td>\n",
              "      <td>-0.255035</td>\n",
              "      <td>-0.015012</td>\n",
              "      <td>0.272230</td>\n",
              "      <td>0.286723</td>\n",
              "      <td>-0.442203</td>\n",
              "      <td>-0.421171</td>\n",
              "    </tr>\n",
              "    <tr>\n",
              "      <th>Infant Deaths</th>\n",
              "      <td>0.008029</td>\n",
              "      <td>-0.169074</td>\n",
              "      <td>0.042450</td>\n",
              "      <td>1.000000</td>\n",
              "      <td>-0.106217</td>\n",
              "      <td>-0.090765</td>\n",
              "      <td>-0.231769</td>\n",
              "      <td>0.532680</td>\n",
              "      <td>-0.234425</td>\n",
              "      <td>0.996906</td>\n",
              "      <td>-0.156929</td>\n",
              "      <td>-0.146951</td>\n",
              "      <td>-0.161871</td>\n",
              "      <td>0.007712</td>\n",
              "      <td>-0.098092</td>\n",
              "      <td>0.671758</td>\n",
              "      <td>0.463415</td>\n",
              "      <td>0.461908</td>\n",
              "      <td>-0.134754</td>\n",
              "      <td>-0.214372</td>\n",
              "    </tr>\n",
              "    <tr>\n",
              "      <th>Alcohol</th>\n",
              "      <td>-0.113365</td>\n",
              "      <td>0.402718</td>\n",
              "      <td>-0.175535</td>\n",
              "      <td>-0.106217</td>\n",
              "      <td>1.000000</td>\n",
              "      <td>0.417047</td>\n",
              "      <td>0.109889</td>\n",
              "      <td>-0.050110</td>\n",
              "      <td>0.353396</td>\n",
              "      <td>-0.101082</td>\n",
              "      <td>0.240315</td>\n",
              "      <td>0.214885</td>\n",
              "      <td>0.242951</td>\n",
              "      <td>-0.027113</td>\n",
              "      <td>0.443433</td>\n",
              "      <td>-0.028880</td>\n",
              "      <td>-0.403755</td>\n",
              "      <td>-0.386208</td>\n",
              "      <td>0.561074</td>\n",
              "      <td>0.616975</td>\n",
              "    </tr>\n",
              "    <tr>\n",
              "      <th>Percentage Expenditure</th>\n",
              "      <td>0.069553</td>\n",
              "      <td>0.409631</td>\n",
              "      <td>-0.237610</td>\n",
              "      <td>-0.090765</td>\n",
              "      <td>0.417047</td>\n",
              "      <td>1.000000</td>\n",
              "      <td>0.016760</td>\n",
              "      <td>-0.063071</td>\n",
              "      <td>0.242738</td>\n",
              "      <td>-0.092158</td>\n",
              "      <td>0.128626</td>\n",
              "      <td>0.183872</td>\n",
              "      <td>0.134813</td>\n",
              "      <td>-0.095085</td>\n",
              "      <td>0.959299</td>\n",
              "      <td>-0.016792</td>\n",
              "      <td>-0.255035</td>\n",
              "      <td>-0.255635</td>\n",
              "      <td>0.402170</td>\n",
              "      <td>0.422088</td>\n",
              "    </tr>\n",
              "    <tr>\n",
              "      <th>Hepatitis B</th>\n",
              "      <td>0.114897</td>\n",
              "      <td>0.199935</td>\n",
              "      <td>-0.105225</td>\n",
              "      <td>-0.231769</td>\n",
              "      <td>0.109889</td>\n",
              "      <td>0.016760</td>\n",
              "      <td>1.000000</td>\n",
              "      <td>-0.124800</td>\n",
              "      <td>0.143302</td>\n",
              "      <td>-0.240766</td>\n",
              "      <td>0.463331</td>\n",
              "      <td>0.113327</td>\n",
              "      <td>0.588990</td>\n",
              "      <td>-0.094802</td>\n",
              "      <td>0.041850</td>\n",
              "      <td>-0.129723</td>\n",
              "      <td>-0.129406</td>\n",
              "      <td>-0.133251</td>\n",
              "      <td>0.184921</td>\n",
              "      <td>0.215182</td>\n",
              "    </tr>\n",
              "    <tr>\n",
              "      <th>Measles</th>\n",
              "      <td>-0.053822</td>\n",
              "      <td>-0.068881</td>\n",
              "      <td>-0.003967</td>\n",
              "      <td>0.532680</td>\n",
              "      <td>-0.050110</td>\n",
              "      <td>-0.063071</td>\n",
              "      <td>-0.124800</td>\n",
              "      <td>1.000000</td>\n",
              "      <td>-0.153245</td>\n",
              "      <td>0.517506</td>\n",
              "      <td>-0.057850</td>\n",
              "      <td>-0.113583</td>\n",
              "      <td>-0.058606</td>\n",
              "      <td>-0.003522</td>\n",
              "      <td>-0.064768</td>\n",
              "      <td>0.321946</td>\n",
              "      <td>0.180642</td>\n",
              "      <td>0.174946</td>\n",
              "      <td>-0.058277</td>\n",
              "      <td>-0.115660</td>\n",
              "    </tr>\n",
              "    <tr>\n",
              "      <th>BMI</th>\n",
              "      <td>0.005739</td>\n",
              "      <td>0.542042</td>\n",
              "      <td>-0.351542</td>\n",
              "      <td>-0.234425</td>\n",
              "      <td>0.353396</td>\n",
              "      <td>0.242738</td>\n",
              "      <td>0.143302</td>\n",
              "      <td>-0.153245</td>\n",
              "      <td>1.000000</td>\n",
              "      <td>-0.242137</td>\n",
              "      <td>0.186268</td>\n",
              "      <td>0.189469</td>\n",
              "      <td>0.176295</td>\n",
              "      <td>-0.210897</td>\n",
              "      <td>0.266114</td>\n",
              "      <td>-0.081416</td>\n",
              "      <td>-0.547018</td>\n",
              "      <td>-0.554094</td>\n",
              "      <td>0.510505</td>\n",
              "      <td>0.554844</td>\n",
              "    </tr>\n",
              "    <tr>\n",
              "      <th>Under-five Deaths</th>\n",
              "      <td>0.010479</td>\n",
              "      <td>-0.192265</td>\n",
              "      <td>0.060365</td>\n",
              "      <td>0.996906</td>\n",
              "      <td>-0.101082</td>\n",
              "      <td>-0.092158</td>\n",
              "      <td>-0.240766</td>\n",
              "      <td>0.517506</td>\n",
              "      <td>-0.242137</td>\n",
              "      <td>1.000000</td>\n",
              "      <td>-0.171164</td>\n",
              "      <td>-0.145803</td>\n",
              "      <td>-0.178448</td>\n",
              "      <td>0.019476</td>\n",
              "      <td>-0.100331</td>\n",
              "      <td>0.658680</td>\n",
              "      <td>0.464785</td>\n",
              "      <td>0.462289</td>\n",
              "      <td>-0.148097</td>\n",
              "      <td>-0.226013</td>\n",
              "    </tr>\n",
              "    <tr>\n",
              "      <th>Polio</th>\n",
              "      <td>-0.016699</td>\n",
              "      <td>0.327294</td>\n",
              "      <td>-0.199853</td>\n",
              "      <td>-0.156929</td>\n",
              "      <td>0.240315</td>\n",
              "      <td>0.128626</td>\n",
              "      <td>0.463331</td>\n",
              "      <td>-0.057850</td>\n",
              "      <td>0.186268</td>\n",
              "      <td>-0.171164</td>\n",
              "      <td>1.000000</td>\n",
              "      <td>0.119768</td>\n",
              "      <td>0.609245</td>\n",
              "      <td>-0.107885</td>\n",
              "      <td>0.156809</td>\n",
              "      <td>-0.045387</td>\n",
              "      <td>-0.164070</td>\n",
              "      <td>-0.174489</td>\n",
              "      <td>0.314682</td>\n",
              "      <td>0.350147</td>\n",
              "    </tr>\n",
              "    <tr>\n",
              "      <th>Total Expenditure</th>\n",
              "      <td>0.059493</td>\n",
              "      <td>0.174718</td>\n",
              "      <td>-0.085227</td>\n",
              "      <td>-0.146951</td>\n",
              "      <td>0.214885</td>\n",
              "      <td>0.183872</td>\n",
              "      <td>0.113327</td>\n",
              "      <td>-0.113583</td>\n",
              "      <td>0.189469</td>\n",
              "      <td>-0.145803</td>\n",
              "      <td>0.119768</td>\n",
              "      <td>1.000000</td>\n",
              "      <td>0.129915</td>\n",
              "      <td>0.043101</td>\n",
              "      <td>0.180373</td>\n",
              "      <td>-0.079962</td>\n",
              "      <td>-0.209872</td>\n",
              "      <td>-0.217865</td>\n",
              "      <td>0.183653</td>\n",
              "      <td>0.243783</td>\n",
              "    </tr>\n",
              "    <tr>\n",
              "      <th>Diphtheria</th>\n",
              "      <td>0.029641</td>\n",
              "      <td>0.341331</td>\n",
              "      <td>-0.191429</td>\n",
              "      <td>-0.161871</td>\n",
              "      <td>0.242951</td>\n",
              "      <td>0.134813</td>\n",
              "      <td>0.588990</td>\n",
              "      <td>-0.058606</td>\n",
              "      <td>0.176295</td>\n",
              "      <td>-0.178448</td>\n",
              "      <td>0.609245</td>\n",
              "      <td>0.129915</td>\n",
              "      <td>1.000000</td>\n",
              "      <td>-0.117601</td>\n",
              "      <td>0.158438</td>\n",
              "      <td>-0.039898</td>\n",
              "      <td>-0.187242</td>\n",
              "      <td>-0.180952</td>\n",
              "      <td>0.343262</td>\n",
              "      <td>0.350398</td>\n",
              "    </tr>\n",
              "    <tr>\n",
              "      <th>HIV/AIDS</th>\n",
              "      <td>-0.123405</td>\n",
              "      <td>-0.592236</td>\n",
              "      <td>0.550691</td>\n",
              "      <td>0.007712</td>\n",
              "      <td>-0.027113</td>\n",
              "      <td>-0.095085</td>\n",
              "      <td>-0.094802</td>\n",
              "      <td>-0.003522</td>\n",
              "      <td>-0.210897</td>\n",
              "      <td>0.019476</td>\n",
              "      <td>-0.107885</td>\n",
              "      <td>0.043101</td>\n",
              "      <td>-0.117601</td>\n",
              "      <td>1.000000</td>\n",
              "      <td>-0.108081</td>\n",
              "      <td>-0.027801</td>\n",
              "      <td>0.172592</td>\n",
              "      <td>0.183147</td>\n",
              "      <td>-0.248590</td>\n",
              "      <td>-0.211840</td>\n",
              "    </tr>\n",
              "    <tr>\n",
              "      <th>GDP</th>\n",
              "      <td>0.096421</td>\n",
              "      <td>0.441322</td>\n",
              "      <td>-0.255035</td>\n",
              "      <td>-0.098092</td>\n",
              "      <td>0.443433</td>\n",
              "      <td>0.959299</td>\n",
              "      <td>0.041850</td>\n",
              "      <td>-0.064768</td>\n",
              "      <td>0.266114</td>\n",
              "      <td>-0.100331</td>\n",
              "      <td>0.156809</td>\n",
              "      <td>0.180373</td>\n",
              "      <td>0.158438</td>\n",
              "      <td>-0.108081</td>\n",
              "      <td>1.000000</td>\n",
              "      <td>-0.020369</td>\n",
              "      <td>-0.277498</td>\n",
              "      <td>-0.277959</td>\n",
              "      <td>0.446856</td>\n",
              "      <td>0.467947</td>\n",
              "    </tr>\n",
              "    <tr>\n",
              "      <th>Population</th>\n",
              "      <td>0.012567</td>\n",
              "      <td>-0.022305</td>\n",
              "      <td>-0.015012</td>\n",
              "      <td>0.671758</td>\n",
              "      <td>-0.028880</td>\n",
              "      <td>-0.016792</td>\n",
              "      <td>-0.129723</td>\n",
              "      <td>0.321946</td>\n",
              "      <td>-0.081416</td>\n",
              "      <td>0.658680</td>\n",
              "      <td>-0.045387</td>\n",
              "      <td>-0.079962</td>\n",
              "      <td>-0.039898</td>\n",
              "      <td>-0.027801</td>\n",
              "      <td>-0.020369</td>\n",
              "      <td>1.000000</td>\n",
              "      <td>0.282529</td>\n",
              "      <td>0.277913</td>\n",
              "      <td>-0.008132</td>\n",
              "      <td>-0.040312</td>\n",
              "    </tr>\n",
              "    <tr>\n",
              "      <th>Thinness 10-19 Years</th>\n",
              "      <td>0.019757</td>\n",
              "      <td>-0.457838</td>\n",
              "      <td>0.272230</td>\n",
              "      <td>0.463415</td>\n",
              "      <td>-0.403755</td>\n",
              "      <td>-0.255035</td>\n",
              "      <td>-0.129406</td>\n",
              "      <td>0.180642</td>\n",
              "      <td>-0.547018</td>\n",
              "      <td>0.464785</td>\n",
              "      <td>-0.164070</td>\n",
              "      <td>-0.209872</td>\n",
              "      <td>-0.187242</td>\n",
              "      <td>0.172592</td>\n",
              "      <td>-0.277498</td>\n",
              "      <td>0.282529</td>\n",
              "      <td>1.000000</td>\n",
              "      <td>0.927913</td>\n",
              "      <td>-0.453679</td>\n",
              "      <td>-0.491199</td>\n",
              "    </tr>\n",
              "    <tr>\n",
              "      <th>Thinness 5-9 Years</th>\n",
              "      <td>0.014122</td>\n",
              "      <td>-0.457508</td>\n",
              "      <td>0.286723</td>\n",
              "      <td>0.461908</td>\n",
              "      <td>-0.386208</td>\n",
              "      <td>-0.255635</td>\n",
              "      <td>-0.133251</td>\n",
              "      <td>0.174946</td>\n",
              "      <td>-0.554094</td>\n",
              "      <td>0.462289</td>\n",
              "      <td>-0.174489</td>\n",
              "      <td>-0.217865</td>\n",
              "      <td>-0.180952</td>\n",
              "      <td>0.183147</td>\n",
              "      <td>-0.277959</td>\n",
              "      <td>0.277913</td>\n",
              "      <td>0.927913</td>\n",
              "      <td>1.000000</td>\n",
              "      <td>-0.438484</td>\n",
              "      <td>-0.472482</td>\n",
              "    </tr>\n",
              "    <tr>\n",
              "      <th>Income Composition of Resources</th>\n",
              "      <td>0.122892</td>\n",
              "      <td>0.721083</td>\n",
              "      <td>-0.442203</td>\n",
              "      <td>-0.134754</td>\n",
              "      <td>0.561074</td>\n",
              "      <td>0.402170</td>\n",
              "      <td>0.184921</td>\n",
              "      <td>-0.058277</td>\n",
              "      <td>0.510505</td>\n",
              "      <td>-0.148097</td>\n",
              "      <td>0.314682</td>\n",
              "      <td>0.183653</td>\n",
              "      <td>0.343262</td>\n",
              "      <td>-0.248590</td>\n",
              "      <td>0.446856</td>\n",
              "      <td>-0.008132</td>\n",
              "      <td>-0.453679</td>\n",
              "      <td>-0.438484</td>\n",
              "      <td>1.000000</td>\n",
              "      <td>0.784741</td>\n",
              "    </tr>\n",
              "    <tr>\n",
              "      <th>Schooling</th>\n",
              "      <td>0.088732</td>\n",
              "      <td>0.727630</td>\n",
              "      <td>-0.421171</td>\n",
              "      <td>-0.214372</td>\n",
              "      <td>0.616975</td>\n",
              "      <td>0.422088</td>\n",
              "      <td>0.215182</td>\n",
              "      <td>-0.115660</td>\n",
              "      <td>0.554844</td>\n",
              "      <td>-0.226013</td>\n",
              "      <td>0.350147</td>\n",
              "      <td>0.243783</td>\n",
              "      <td>0.350398</td>\n",
              "      <td>-0.211840</td>\n",
              "      <td>0.467947</td>\n",
              "      <td>-0.040312</td>\n",
              "      <td>-0.491199</td>\n",
              "      <td>-0.472482</td>\n",
              "      <td>0.784741</td>\n",
              "      <td>1.000000</td>\n",
              "    </tr>\n",
              "  </tbody>\n",
              "</table>\n",
              "</div>"
            ],
            "text/plain": [
              "                                     Year  ...  Schooling\n",
              "Year                             1.000000  ...   0.088732\n",
              "Life Expectancy                  0.050771  ...   0.727630\n",
              "Adult Mortality                 -0.037092  ...  -0.421171\n",
              "Infant Deaths                    0.008029  ...  -0.214372\n",
              "Alcohol                         -0.113365  ...   0.616975\n",
              "Percentage Expenditure           0.069553  ...   0.422088\n",
              "Hepatitis B                      0.114897  ...   0.215182\n",
              "Measles                         -0.053822  ...  -0.115660\n",
              " BMI                             0.005739  ...   0.554844\n",
              "Under-five Deaths                0.010479  ...  -0.226013\n",
              "Polio                           -0.016699  ...   0.350147\n",
              "Total Expenditure                0.059493  ...   0.243783\n",
              "Diphtheria                       0.029641  ...   0.350398\n",
              " HIV/AIDS                       -0.123405  ...  -0.211840\n",
              "GDP                              0.096421  ...   0.467947\n",
              "Population                       0.012567  ...  -0.040312\n",
              "Thinness 10-19 Years             0.019757  ...  -0.491199\n",
              "Thinness 5-9 Years               0.014122  ...  -0.472482\n",
              "Income Composition of Resources  0.122892  ...   0.784741\n",
              "Schooling                        0.088732  ...   1.000000\n",
              "\n",
              "[20 rows x 20 columns]"
            ]
          },
          "metadata": {
            "tags": []
          },
          "execution_count": 30
        }
      ]
    },
    {
      "cell_type": "markdown",
      "metadata": {
        "id": "IRglcLCnyVaS"
      },
      "source": [
        "We see that there's a strong negative correlation between 'adult mortality' and 'life expectancy', which is expected as the mortality rate of adults between the age of 15 and 60 will directly influence life expectency. We also see a moderate correlation between 'alcohol' consumption, 'percentage expenditure', 'GDP' per capita, 'BMI', 'polio' and 'diphtheria' immunization and 'life expectancy'. A moderate negative correlation between 'HIV/AIDS' deaths, 'thinness 5-9 years', 'thinness 10-19 years' and 'life expectency'. And intrestingly a strong correlation between 'income composition of resources', 'schooling' and 'life expectancy'.\n",
        "The next step would be finding the statistical significance of each of these features and life expectancy and plotting the regression plot of both features."
      ]
    },
    {
      "cell_type": "markdown",
      "metadata": {
        "id": "-M5769TaB0rw"
      },
      "source": [
        "###Relationship between the adult mortality rate and life expectancy"
      ]
    },
    {
      "cell_type": "code",
      "metadata": {
        "id": "AQwFj30Rvi2E",
        "colab": {
          "base_uri": "https://localhost:8080/"
        },
        "outputId": "b758c6da-5c9b-43c6-952e-42ed76d5752a"
      },
      "source": [
        "from scipy import stats\n",
        "r, p_val = stats.pearsonr(df['Adult Mortality'], df['Life Expectancy'])\n",
        "print(f' correlation between Adult Mortality and Life Expectancy: {r}\\n P value: {p_val} ')"
      ],
      "execution_count": 31,
      "outputs": [
        {
          "output_type": "stream",
          "text": [
            " correlation between Adult Mortality and Life Expectancy: -0.7025230623069736\n",
            " P value: 1.3819095404866706e-245 \n"
          ],
          "name": "stdout"
        }
      ]
    },
    {
      "cell_type": "markdown",
      "metadata": {
        "id": "LZdOnbmE_A-1"
      },
      "source": [
        "As we can see the P value is extremely small which means that the probability of the two features not having a relationship is extremly low."
      ]
    },
    {
      "cell_type": "code",
      "metadata": {
        "colab": {
          "base_uri": "https://localhost:8080/",
          "height": 297
        },
        "id": "D3jf_Yyh_m9S",
        "outputId": "67c26ec5-f5df-4444-c018-8890cbd0d71e"
      },
      "source": [
        "import seaborn as sns\n",
        "sns.regplot( x = df['Adult Mortality'], y = df['Life Expectancy'])"
      ],
      "execution_count": 32,
      "outputs": [
        {
          "output_type": "execute_result",
          "data": {
            "text/plain": [
              "<matplotlib.axes._subplots.AxesSubplot at 0x7f28ac04aa90>"
            ]
          },
          "metadata": {
            "tags": []
          },
          "execution_count": 32
        },
        {
          "output_type": "display_data",
          "data": {
            "image/png": "[encoded data removed]",
            "text/plain": [
              "<Figure size 432x288 with 1 Axes>"
            ]
          },
          "metadata": {
            "tags": [],
            "needs_background": "light"
          }
        }
      ]
    },
    {
      "cell_type": "markdown",
      "metadata": {
        "id": "e2QS4WKXCNZC"
      },
      "source": [
        "With some outliers we can see a regression line that trends downwards. As expected, as adult mortality increases, life expectancy decreases. We will kepp this feature as a predictive feature."
      ]
    },
    {
      "cell_type": "markdown",
      "metadata": {
        "id": "h7uxPkLGDVjp"
      },
      "source": [
        "###Relationship between alcohol consumption and life expectancy"
      ]
    },
    {
      "cell_type": "code",
      "metadata": {
        "colab": {
          "base_uri": "https://localhost:8080/"
        },
        "id": "kxJq9cYoBUQA",
        "outputId": "41ee14da-a7af-4aaa-d059-f470c9104e20"
      },
      "source": [
        "r, p_val = stats.pearsonr(df['Alcohol'], df['Life Expectancy'])\n",
        "print(f' correlation between alcohol consumption and Life Expectancy: {r}\\n P value: {p_val} ')"
      ],
      "execution_count": 33,
      "outputs": [
        {
          "output_type": "stream",
          "text": [
            " correlation between alcohol consumption and Life Expectancy: 0.40271832172735333\n",
            " P value: 2.5172303135310304e-65 \n"
          ],
          "name": "stdout"
        }
      ]
    },
    {
      "cell_type": "code",
      "metadata": {
        "colab": {
          "base_uri": "https://localhost:8080/"
        },
        "id": "kBWkx8n8GxQS",
        "outputId": "fcc4a4f7-c05e-48e9-ac7a-b1aa34a85399"
      },
      "source": [
        "r, p_val = stats.pearsonr(df['Alcohol'], df['Life Expectancy'])\n",
        "print(f' correlation between alcohol consumption and Life Expectancy: {r}\\n P value: {p_val} ')"
      ],
      "execution_count": 34,
      "outputs": [
        {
          "output_type": "stream",
          "text": [
            " correlation between alcohol consumption and Life Expectancy: 0.40271832172735333\n",
            " P value: 2.5172303135310304e-65 \n"
          ],
          "name": "stdout"
        }
      ]
    },
    {
      "cell_type": "code",
      "metadata": {
        "colab": {
          "base_uri": "https://localhost:8080/",
          "height": 297
        },
        "id": "N7wIhYYZEfcp",
        "outputId": "045c0f1a-8ab8-4120-ad59-e6cd0937408f"
      },
      "source": [
        "sns.regplot( x = df['Alcohol'], y = df['Life Expectancy'])"
      ],
      "execution_count": 35,
      "outputs": [
        {
          "output_type": "execute_result",
          "data": {
            "text/plain": [
              "<matplotlib.axes._subplots.AxesSubplot at 0x7f28ab8c1550>"
            ]
          },
          "metadata": {
            "tags": []
          },
          "execution_count": 35
        },
        {
          "output_type": "display_data",
          "data": {
            "image/png": "[encoded data removed]",
            "text/plain": [
              "<Figure size 432x288 with 1 Axes>"
            ]
          },
          "metadata": {
            "tags": [],
            "needs_background": "light"
          }
        }
      ]
    },
    {
      "cell_type": "markdown",
      "metadata": {
        "id": "o2tmFclgEzCK"
      },
      "source": [
        "Even though there is a somewhat moderate correlation between alcohol consumption and life expectancy and the P value is very low (wich by itself if unusual since studies show alcohol consumption can be detrimental to health) the scatter plot shows that the points are scattered all over the place which means that alcohol is a very unlikely candidate to predict life expectancy in this case. We will discard this feature from our predictive features."
      ]
    },
    {
      "cell_type": "markdown",
      "metadata": {
        "id": "qn5XVuADGH9O"
      },
      "source": [
        "###Relationship between precentage expenditure and life expectancy"
      ]
    },
    {
      "cell_type": "code",
      "metadata": {
        "colab": {
          "base_uri": "https://localhost:8080/"
        },
        "id": "OyJfdcR6Gydk",
        "outputId": "2ab3957b-e5e7-4e4c-bd5c-44f401af1856"
      },
      "source": [
        "r, p_val = stats.pearsonr(df['Percentage Expenditure'], df['Life Expectancy'])\n",
        "print(f' correlation between percentage expenditure and Life Expectancy: {r}\\n P value: {p_val} ')"
      ],
      "execution_count": 36,
      "outputs": [
        {
          "output_type": "stream",
          "text": [
            " correlation between percentage expenditure and Life Expectancy: 0.4096308241250478\n",
            " P value: 9.73802169690795e-68 \n"
          ],
          "name": "stdout"
        }
      ]
    },
    {
      "cell_type": "code",
      "metadata": {
        "colab": {
          "base_uri": "https://localhost:8080/",
          "height": 331
        },
        "id": "yhCEhqZeHbBE",
        "outputId": "e276cee8-8f14-40fa-ce13-a74be58297cf"
      },
      "source": [
        "print(df['Life Expectancy'].max())\n",
        "print(df['Percentage Expenditure'].max())\n",
        "#since these values vary significantly, we will normalize them so no feature will overtake our plot\n",
        "life_expect_norm = df['Life Expectancy']/df['Life Expectancy'].max()\n",
        "percentage_expenditure_norm = df['Percentage Expenditure']/df['Percentage Expenditure'].max()\n",
        "sns.regplot(x = percentage_expenditure_norm, y = life_expect_norm)"
      ],
      "execution_count": 37,
      "outputs": [
        {
          "output_type": "stream",
          "text": [
            "89.0\n",
            "18961.3486\n"
          ],
          "name": "stdout"
        },
        {
          "output_type": "execute_result",
          "data": {
            "text/plain": [
              "<matplotlib.axes._subplots.AxesSubplot at 0x7f28ab844b10>"
            ]
          },
          "metadata": {
            "tags": []
          },
          "execution_count": 37
        },
        {
          "output_type": "display_data",
          "data": {
            "image/png": "[encoded data removed]",
            "text/plain": [
              "<Figure size 432x288 with 1 Axes>"
            ]
          },
          "metadata": {
            "tags": [],
            "needs_background": "light"
          }
        }
      ]
    },
    {
      "cell_type": "markdown",
      "metadata": {
        "id": "VyKYW9CIKOMv"
      },
      "source": [
        "We can see that there is no linear relationship between the two features. which means large health expenditure doesn't necessarly mean higher life expectancy. We will discard this feature as a predictive variable."
      ]
    },
    {
      "cell_type": "markdown",
      "metadata": {
        "id": "4JTcnlSLNJjS"
      },
      "source": [
        "###Relationship between GDP and life expectancy"
      ]
    },
    {
      "cell_type": "code",
      "metadata": {
        "colab": {
          "base_uri": "https://localhost:8080/"
        },
        "id": "qh5H0LUrNSp7",
        "outputId": "8433e12c-b90f-4f63-aac8-b6e66bb757f6"
      },
      "source": [
        "r, p_val = stats.pearsonr(df['GDP'], df['Life Expectancy'])\n",
        "print(f' correlation between GDP and Life Expectancy: {r}\\n P value: {p_val} ')"
      ],
      "execution_count": 38,
      "outputs": [
        {
          "output_type": "stream",
          "text": [
            " correlation between GDP and Life Expectancy: 0.44132180991356523\n",
            " P value: 1.4962818696925958e-79 \n"
          ],
          "name": "stdout"
        }
      ]
    },
    {
      "cell_type": "code",
      "metadata": {
        "colab": {
          "base_uri": "https://localhost:8080/",
          "height": 331
        },
        "id": "xS8RcO3RmgRa",
        "outputId": "e265ea99-03d5-46e7-a025-1ac669ed8996"
      },
      "source": [
        "print(df['Life Expectancy'].max())\n",
        "print(df['GDP'].max())\n",
        "#since these values vary significantly, we will normalize them so no feature will overtake our plot\n",
        "life_expect_norm = df['Life Expectancy']/df['Life Expectancy'].max()\n",
        "gdp_norm = df['GDP']/df['GDP'].max()\n",
        "sns.regplot(x = gdp_norm, y = life_expect_norm)"
      ],
      "execution_count": 39,
      "outputs": [
        {
          "output_type": "stream",
          "text": [
            "89.0\n",
            "119172.7418\n"
          ],
          "name": "stdout"
        },
        {
          "output_type": "execute_result",
          "data": {
            "text/plain": [
              "<matplotlib.axes._subplots.AxesSubplot at 0x7f28ab828950>"
            ]
          },
          "metadata": {
            "tags": []
          },
          "execution_count": 39
        },
        {
          "output_type": "display_data",
          "data": {
            "image/png": "[encoded data removed]",
            "text/plain": [
              "<Figure size 432x288 with 1 Axes>"
            ]
          },
          "metadata": {
            "tags": [],
            "needs_background": "light"
          }
        }
      ]
    },
    {
      "cell_type": "markdown",
      "metadata": {
        "id": "cTdlAyuBnHlH"
      },
      "source": [
        "According to the graph, there isn't a strong enough relationship between GDP per capita and life expectancy. We will discard this feature."
      ]
    },
    {
      "cell_type": "markdown",
      "metadata": {
        "id": "s8wVc1-XnZh2"
      },
      "source": [
        "###Relationship between BMI and life expectancy"
      ]
    },
    {
      "cell_type": "code",
      "metadata": {
        "colab": {
          "base_uri": "https://localhost:8080/"
        },
        "id": "Fs-DCV7fnqkd",
        "outputId": "9f09964c-6f6d-4537-f07e-a3a9483930a7"
      },
      "source": [
        "r, p_val = stats.pearsonr(df[' BMI '], df['Life Expectancy'])\n",
        "print(f' correlation between BMI and Life Expectancy: {r}\\n P value: {p_val} ')"
      ],
      "execution_count": 40,
      "outputs": [
        {
          "output_type": "stream",
          "text": [
            " correlation between BMI and Life Expectancy: 0.542041587691577\n",
            " P value: 1.4003480867742567e-126 \n"
          ],
          "name": "stdout"
        }
      ]
    },
    {
      "cell_type": "code",
      "metadata": {
        "colab": {
          "base_uri": "https://localhost:8080/",
          "height": 297
        },
        "id": "cvL1r489mj5i",
        "outputId": "dcc5811f-9cd3-4b58-ea04-9d67ea69460e"
      },
      "source": [
        "sns.regplot( x = df[' BMI '], y = df['Life Expectancy'])"
      ],
      "execution_count": 41,
      "outputs": [
        {
          "output_type": "execute_result",
          "data": {
            "text/plain": [
              "<matplotlib.axes._subplots.AxesSubplot at 0x7f28ab731350>"
            ]
          },
          "metadata": {
            "tags": []
          },
          "execution_count": 41
        },
        {
          "output_type": "display_data",
          "data": {
            "image/png": "[encoded data removed]",
            "text/plain": [
              "<Figure size 432x288 with 1 Axes>"
            ]
          },
          "metadata": {
            "tags": [],
            "needs_background": "light"
          }
        }
      ]
    },
    {
      "cell_type": "markdown",
      "metadata": {
        "id": "5a87XeM5oZO6"
      },
      "source": [
        "Even though the scatter points might seem somewhat upward trending, the points will do a poor job in predincting life expectancy as the error between actual values and predicted values (regression line) will be significant. We will discard this feature as a potential predictive variable."
      ]
    },
    {
      "cell_type": "markdown",
      "metadata": {
        "id": "91128oz_pEaS"
      },
      "source": [
        "###Relationship between Polio immunization and life expectancy"
      ]
    },
    {
      "cell_type": "code",
      "metadata": {
        "colab": {
          "base_uri": "https://localhost:8080/"
        },
        "id": "UPmcQX21pCtt",
        "outputId": "2350fa23-807c-45c1-caf1-41f830859cea"
      },
      "source": [
        "r, p_val = stats.pearsonr(df['Polio'], df['Life Expectancy'])\n",
        "print(f' correlation between Polio and Life Expectancy: {r}\\n P value: {p_val} ')"
      ],
      "execution_count": 42,
      "outputs": [
        {
          "output_type": "stream",
          "text": [
            " correlation between Polio and Life Expectancy: 0.32729440310492874\n",
            " P value: 1.7942501657557742e-42 \n"
          ],
          "name": "stdout"
        }
      ]
    },
    {
      "cell_type": "code",
      "metadata": {
        "colab": {
          "base_uri": "https://localhost:8080/",
          "height": 297
        },
        "id": "UOZRq3ocpCRz",
        "outputId": "7c6c82fe-db86-4a9e-c0d6-eef873a837fa"
      },
      "source": [
        "sns.regplot( x = df['Polio'], y = df['Life Expectancy'])"
      ],
      "execution_count": 43,
      "outputs": [
        {
          "output_type": "execute_result",
          "data": {
            "text/plain": [
              "<matplotlib.axes._subplots.AxesSubplot at 0x7f28ab6a6f10>"
            ]
          },
          "metadata": {
            "tags": []
          },
          "execution_count": 43
        },
        {
          "output_type": "display_data",
          "data": {
            "image/png": "[encoded data removed]",
            "text/plain": [
              "<Figure size 432x288 with 1 Axes>"
            ]
          },
          "metadata": {
            "tags": [],
            "needs_background": "light"
          }
        }
      ]
    },
    {
      "cell_type": "markdown",
      "metadata": {
        "id": "I1VsnkJKpz6M"
      },
      "source": [
        "No relationship whatsoever between polio vaccinations and life expectancy. We will discard this feature."
      ]
    },
    {
      "cell_type": "markdown",
      "metadata": {
        "id": "BiWpLx9KqClx"
      },
      "source": [
        "###Relationship between Diphtheria immunization and life expectancy"
      ]
    },
    {
      "cell_type": "code",
      "metadata": {
        "colab": {
          "base_uri": "https://localhost:8080/"
        },
        "id": "ZuxfvYylqcbT",
        "outputId": "e9e3fb01-47ea-4ade-f94c-9e720778d8e0"
      },
      "source": [
        "r, p_val = stats.pearsonr(df['Diphtheria '], df['Life Expectancy'])\n",
        "print(f' correlation between Diphtheria and Life Expectancy: {r}\\n P value: {p_val} ')"
      ],
      "execution_count": 44,
      "outputs": [
        {
          "output_type": "stream",
          "text": [
            " correlation between Diphtheria and Life Expectancy: 0.34133123426064094\n",
            " P value: 2.8617743705068703e-46 \n"
          ],
          "name": "stdout"
        }
      ]
    },
    {
      "cell_type": "code",
      "metadata": {
        "colab": {
          "base_uri": "https://localhost:8080/",
          "height": 297
        },
        "id": "3HHtlWJwrH8e",
        "outputId": "def7e454-20bc-4a03-e1bb-20b78179db84"
      },
      "source": [
        "sns.regplot( x = df['Diphtheria '], y = df['Life Expectancy'])"
      ],
      "execution_count": 45,
      "outputs": [
        {
          "output_type": "execute_result",
          "data": {
            "text/plain": [
              "<matplotlib.axes._subplots.AxesSubplot at 0x7f28ab60d490>"
            ]
          },
          "metadata": {
            "tags": []
          },
          "execution_count": 45
        },
        {
          "output_type": "display_data",
          "data": {
            "image/png": "[encoded data removed]",
            "text/plain": [
              "<Figure size 432x288 with 1 Axes>"
            ]
          },
          "metadata": {
            "tags": [],
            "needs_background": "light"
          }
        }
      ]
    },
    {
      "cell_type": "markdown",
      "metadata": {
        "id": "bNY5m-BDrOgd"
      },
      "source": [
        "According to the graph, Diphtheria is not a good predictor. We will discard this feature. "
      ]
    },
    {
      "cell_type": "markdown",
      "metadata": {
        "id": "4zbsaK6CrgdI"
      },
      "source": [
        "###Relationship between HIV/AIDS deaths immunization and life expectancy"
      ]
    },
    {
      "cell_type": "code",
      "metadata": {
        "colab": {
          "base_uri": "https://localhost:8080/"
        },
        "id": "kVtBNJJHr03O",
        "outputId": "52ca6e6d-c34e-4130-bb20-1cd73ef9cede"
      },
      "source": [
        "r, p_val = stats.pearsonr(df[' HIV/AIDS'], df['Life Expectancy'])\n",
        "print(f' correlation between HIV/AIDS and Life Expectancy: {r}\\n P value: {p_val} ')"
      ],
      "execution_count": 46,
      "outputs": [
        {
          "output_type": "stream",
          "text": [
            " correlation between HIV/AIDS and Life Expectancy: -0.5922362925926368\n",
            " P value: 1.1096720103598573e-156 \n"
          ],
          "name": "stdout"
        }
      ]
    },
    {
      "cell_type": "code",
      "metadata": {
        "colab": {
          "base_uri": "https://localhost:8080/",
          "height": 297
        },
        "id": "t5SjZgt4sBpo",
        "outputId": "7761a49b-7c7b-4fd8-e76e-6bc369227be3"
      },
      "source": [
        "sns.regplot( x = df[' HIV/AIDS'], y = df['Life Expectancy'])"
      ],
      "execution_count": 47,
      "outputs": [
        {
          "output_type": "execute_result",
          "data": {
            "text/plain": [
              "<matplotlib.axes._subplots.AxesSubplot at 0x7f28ab5fec10>"
            ]
          },
          "metadata": {
            "tags": []
          },
          "execution_count": 47
        },
        {
          "output_type": "display_data",
          "data": {
            "image/png": "[encoded data removed]",
            "text/plain": [
              "<Figure size 432x288 with 1 Axes>"
            ]
          },
          "metadata": {
            "tags": [],
            "needs_background": "light"
          }
        }
      ]
    },
    {
      "cell_type": "markdown",
      "metadata": {
        "id": "6X0yp7l6sT6_"
      },
      "source": [
        "HIV/AIDS deaths seem like a good predictor to life expectancy. as deaths from HIV infection increases; life expectancy decreases. We will keep this feature as a potential predictor."
      ]
    },
    {
      "cell_type": "markdown",
      "metadata": {
        "id": "ipPibPHssmYY"
      },
      "source": [
        "###Relationship between thinness age 5-9 and 10-19 and life expectancy"
      ]
    },
    {
      "cell_type": "code",
      "metadata": {
        "colab": {
          "base_uri": "https://localhost:8080/"
        },
        "id": "kn85djSttg3U",
        "outputId": "9e519b94-de9f-49e4-b69b-4d05fefdf70a"
      },
      "source": [
        "r, p_val = stats.pearsonr(df['Thinness 5-9 Years'], df['Life Expectancy'])\n",
        "print(f' correlation between thinness 5-9 years and Life Expectancy: {r}\\n P value: {p_val} ')"
      ],
      "execution_count": 48,
      "outputs": [
        {
          "output_type": "stream",
          "text": [
            " correlation between thinness 5-9 years and Life Expectancy: -0.4575082867658003\n",
            " P value: 4.350602536969686e-86 \n"
          ],
          "name": "stdout"
        }
      ]
    },
    {
      "cell_type": "code",
      "metadata": {
        "colab": {
          "base_uri": "https://localhost:8080/",
          "height": 297
        },
        "id": "5YorfNeItxU_",
        "outputId": "9a0d2152-86db-4d3f-f49d-d00879016c23"
      },
      "source": [
        "sns.regplot( x = df['Thinness 5-9 Years'], y = df['Life Expectancy'])"
      ],
      "execution_count": 49,
      "outputs": [
        {
          "output_type": "execute_result",
          "data": {
            "text/plain": [
              "<matplotlib.axes._subplots.AxesSubplot at 0x7f28ab568850>"
            ]
          },
          "metadata": {
            "tags": []
          },
          "execution_count": 49
        },
        {
          "output_type": "display_data",
          "data": {
            "image/png": "[encoded data removed]",
            "text/plain": [
              "<Figure size 432x288 with 1 Axes>"
            ]
          },
          "metadata": {
            "tags": [],
            "needs_background": "light"
          }
        }
      ]
    },
    {
      "cell_type": "code",
      "metadata": {
        "colab": {
          "base_uri": "https://localhost:8080/"
        },
        "id": "QmDCry6PtxfO",
        "outputId": "3ff62dc2-a403-4938-e39e-991f11dc8a96"
      },
      "source": [
        "r, p_val = stats.pearsonr(df['Thinness 10-19 Years'], df['Life Expectancy'])\n",
        "print(f' correlation between thinness 10-19 years and Life Expectancy: {r}\\n P value: {p_val} ')"
      ],
      "execution_count": 50,
      "outputs": [
        {
          "output_type": "stream",
          "text": [
            " correlation between thinness 10-19 years and Life Expectancy: -0.45783819334984427\n",
            " P value: 3.174107466422082e-86 \n"
          ],
          "name": "stdout"
        }
      ]
    },
    {
      "cell_type": "code",
      "metadata": {
        "colab": {
          "base_uri": "https://localhost:8080/",
          "height": 297
        },
        "id": "ofInHwRqtyHq",
        "outputId": "254aa3f3-edab-49d8-a598-99c280db70e3"
      },
      "source": [
        "sns.regplot( x = df['Thinness 10-19 Years'], y = df['Life Expectancy'])"
      ],
      "execution_count": 51,
      "outputs": [
        {
          "output_type": "execute_result",
          "data": {
            "text/plain": [
              "<matplotlib.axes._subplots.AxesSubplot at 0x7f28ab4dec10>"
            ]
          },
          "metadata": {
            "tags": []
          },
          "execution_count": 51
        },
        {
          "output_type": "display_data",
          "data": {
            "image/png": "[encoded data removed]",
            "text/plain": [
              "<Figure size 432x288 with 1 Axes>"
            ]
          },
          "metadata": {
            "tags": [],
            "needs_background": "light"
          }
        }
      ]
    },
    {
      "cell_type": "markdown",
      "metadata": {
        "id": "8zdSw5NquHmb"
      },
      "source": [
        "Both of these features are not good predictors according to the graph. We will discard them as potential predictors."
      ]
    },
    {
      "cell_type": "markdown",
      "metadata": {
        "id": "ms5rDPehuT-U"
      },
      "source": [
        "###Relationship between human development index in terms of income composition of resources and life expectancy"
      ]
    },
    {
      "cell_type": "code",
      "metadata": {
        "colab": {
          "base_uri": "https://localhost:8080/"
        },
        "id": "DkTfKF92vEvq",
        "outputId": "4ccf445b-aee3-4e10-af49-ac47d462275d"
      },
      "source": [
        "r, p_val = stats.pearsonr(df['Income Composition of Resources'], df['Life Expectancy'])\n",
        "print(f' correlation between Income Composition of Resources and Life Expectancy: {r}\\n P value: {p_val} ')"
      ],
      "execution_count": 52,
      "outputs": [
        {
          "output_type": "stream",
          "text": [
            " correlation between Income Composition of Resources and Life Expectancy: 0.7210825929172888\n",
            " P value: 9.272180661997443e-265 \n"
          ],
          "name": "stdout"
        }
      ]
    },
    {
      "cell_type": "code",
      "metadata": {
        "colab": {
          "base_uri": "https://localhost:8080/",
          "height": 297
        },
        "id": "8m8ErB-wvY1-",
        "outputId": "8516efbf-637c-4384-f318-4c8a8cc4ec98"
      },
      "source": [
        "sns.regplot( x = df['Income Composition of Resources'], y = df['Life Expectancy'])"
      ],
      "execution_count": 53,
      "outputs": [
        {
          "output_type": "execute_result",
          "data": {
            "text/plain": [
              "<matplotlib.axes._subplots.AxesSubplot at 0x7f28ab44db90>"
            ]
          },
          "metadata": {
            "tags": []
          },
          "execution_count": 53
        },
        {
          "output_type": "display_data",
          "data": {
            "image/png": "[encoded data removed]",
            "text/plain": [
              "<Figure size 432x288 with 1 Axes>"
            ]
          },
          "metadata": {
            "tags": [],
            "needs_background": "light"
          }
        }
      ]
    },
    {
      "cell_type": "markdown",
      "metadata": {
        "id": "-X4rtpmLvkWN"
      },
      "source": [
        "According to the graph, as income dispostion of resources increases; life expectancy increases. We will keep this feature as a potential predictor of life expectancy."
      ]
    },
    {
      "cell_type": "markdown",
      "metadata": {
        "id": "sF39JaFev1dA"
      },
      "source": [
        "###Relationship between schooling and life expectancy"
      ]
    },
    {
      "cell_type": "code",
      "metadata": {
        "colab": {
          "base_uri": "https://localhost:8080/"
        },
        "id": "7PZtzoaWwE88",
        "outputId": "150255df-3997-46bc-c99e-6e2545874043"
      },
      "source": [
        "r, p_val = stats.pearsonr(df['Schooling'], df['Life Expectancy'])\n",
        "print(f' correlation between Schooling and Life Expectancy: {r}\\n P value: {p_val} ')"
      ],
      "execution_count": 54,
      "outputs": [
        {
          "output_type": "stream",
          "text": [
            " correlation between Schooling and Life Expectancy: 0.727630032321104\n",
            " P value: 6.694044010633328e-272 \n"
          ],
          "name": "stdout"
        }
      ]
    },
    {
      "cell_type": "code",
      "metadata": {
        "colab": {
          "base_uri": "https://localhost:8080/",
          "height": 297
        },
        "id": "m9nfRJqNwFjB",
        "outputId": "a019c1a0-0a12-4da4-cea8-ba9da960e625"
      },
      "source": [
        "sns.regplot( x = df['Schooling'], y = df['Life Expectancy'])"
      ],
      "execution_count": 55,
      "outputs": [
        {
          "output_type": "execute_result",
          "data": {
            "text/plain": [
              "<matplotlib.axes._subplots.AxesSubplot at 0x7f28ab43a790>"
            ]
          },
          "metadata": {
            "tags": []
          },
          "execution_count": 55
        },
        {
          "output_type": "display_data",
          "data": {
            "image/png": "[encoded data removed]",
            "text/plain": [
              "<Figure size 432x288 with 1 Axes>"
            ]
          },
          "metadata": {
            "tags": [],
            "needs_background": "light"
          }
        }
      ]
    },
    {
      "cell_type": "markdown",
      "metadata": {
        "id": "QVrldNJcwRSQ"
      },
      "source": [
        "We can see as the number of years of schooling increases; life expectancy increases. we will keep this feature as a predictive variable."
      ]
    },
    {
      "cell_type": "markdown",
      "metadata": {
        "id": "soyBSdT7whJO"
      },
      "source": [
        "We have norrowed down our candidate predictors, now we build a predictive model that predicts that uses these features to predict life expectancy."
      ]
    },
    {
      "cell_type": "markdown",
      "metadata": {
        "id": "aH1Qnn9hw341"
      },
      "source": [
        "##Building our model"
      ]
    },
    {
      "cell_type": "markdown",
      "metadata": {
        "id": "j6xjPDUi7ho_"
      },
      "source": [
        "###Linear model"
      ]
    },
    {
      "cell_type": "code",
      "metadata": {
        "colab": {
          "base_uri": "https://localhost:8080/"
        },
        "id": "8e-6lHn8xDn9",
        "outputId": "961dde2d-338a-45a6-affe-166a641077de"
      },
      "source": [
        "from sklearn.linear_model import LinearRegression\n",
        "from sklearn.model_selection import train_test_split\n",
        "x = df[['Adult Mortality', ' HIV/AIDS', 'Income Composition of Resources', 'Schooling']]\n",
        "y = df['Life Expectancy']\n",
        "x_train, x_test, y_train, y_test = train_test_split(x, y, test_size = 0.3)\n",
        "lr = LinearRegression()\n",
        "lr.fit(x_train, y_train)"
      ],
      "execution_count": 56,
      "outputs": [
        {
          "output_type": "execute_result",
          "data": {
            "text/plain": [
              "LinearRegression(copy_X=True, fit_intercept=True, n_jobs=None, normalize=False)"
            ]
          },
          "metadata": {
            "tags": []
          },
          "execution_count": 56
        }
      ]
    },
    {
      "cell_type": "markdown",
      "metadata": {
        "id": "uv2mxuLw7rce"
      },
      "source": [
        "####Model evaluation"
      ]
    },
    {
      "cell_type": "code",
      "metadata": {
        "colab": {
          "base_uri": "https://localhost:8080/"
        },
        "id": "tsqpkXi3o90T",
        "outputId": "a43bf834-8037-4e71-c58a-d93b42d268c7"
      },
      "source": [
        "from sklearn.metrics import r2_score\n",
        "y_pred = lr.predict(x_test)\n",
        "r2_score(y_pred, y_test)"
      ],
      "execution_count": 57,
      "outputs": [
        {
          "output_type": "execute_result",
          "data": {
            "text/plain": [
              "0.7472149462244888"
            ]
          },
          "metadata": {
            "tags": []
          },
          "execution_count": 57
        }
      ]
    },
    {
      "cell_type": "markdown",
      "metadata": {
        "id": "iTngcKx77vaJ"
      },
      "source": [
        "###Polynomial model"
      ]
    },
    {
      "cell_type": "code",
      "metadata": {
        "id": "KP8ZiSZfw7rI"
      },
      "source": [
        "from sklearn.preprocessing import PolynomialFeatures\n",
        "r = []\n",
        "for d in range(1,9):\n",
        "  pr = PolynomialFeatures(degree = d)\n",
        "  p_train = pr.fit_transform(x_train)\n",
        "  p_test = pr.transform(x_test)\n",
        "  poly = LinearRegression()\n",
        "  poly.fit(p_train, y_train)\n",
        "  y_pred = poly.predict(p_test)\n",
        "  score = r2_score(y_pred, y_test)\n",
        "  r.append(score)"
      ],
      "execution_count": 58,
      "outputs": []
    },
    {
      "cell_type": "markdown",
      "metadata": {
        "id": "tR_GiPzj7zUC"
      },
      "source": [
        "Model evaluation"
      ]
    },
    {
      "cell_type": "code",
      "metadata": {
        "colab": {
          "base_uri": "https://localhost:8080/",
          "height": 299
        },
        "id": "LFsh9OlzyMoE",
        "outputId": "5a494316-c919-4f18-87cb-7dcbda908d99"
      },
      "source": [
        "plt.plot( range(1, 9), r)\n",
        "plt.title('Degree VS R²')"
      ],
      "execution_count": 59,
      "outputs": [
        {
          "output_type": "execute_result",
          "data": {
            "text/plain": [
              "Text(0.5, 1.0, 'Degree VS R²')"
            ]
          },
          "metadata": {
            "tags": []
          },
          "execution_count": 59
        },
        {
          "output_type": "display_data",
          "data": {
            "image/png": "[encoded data removed]",
            "text/plain": [
              "<Figure size 432x288 with 1 Axes>"
            ]
          },
          "metadata": {
            "tags": [],
            "needs_background": "light"
          }
        }
      ]
    },
    {
      "cell_type": "code",
      "metadata": {
        "colab": {
          "base_uri": "https://localhost:8080/"
        },
        "id": "wHIDuheIygR_",
        "outputId": "196c5583-a03c-48a0-f7ab-6a6efe35c204"
      },
      "source": [
        "  pr = PolynomialFeatures(degree = 4)\n",
        "  p_train = pr.fit_transform(x_train)\n",
        "  p_test = pr.transform(x_test)\n",
        "  poly = LinearRegression()\n",
        "  poly.fit(p_train, y_train)\n",
        "  y_pred = poly.predict(p_test)\n",
        "  r2_score(y_pred, y_test)"
      ],
      "execution_count": 60,
      "outputs": [
        {
          "output_type": "execute_result",
          "data": {
            "text/plain": [
              "0.9242684861157355"
            ]
          },
          "metadata": {
            "tags": []
          },
          "execution_count": 60
        }
      ]
    },
    {
      "cell_type": "markdown",
      "metadata": {
        "id": "24BgKXRT76ly"
      },
      "source": [
        "We can see that our model performs best at prediction at a polynomial degre of 4."
      ]
    },
    {
      "cell_type": "markdown",
      "metadata": {
        "id": "XjbhPCbL8HPv"
      },
      "source": [
        "##Conclusion\n",
        "The polynomial regression model performs better than linear regression. The features adult mortality, AIDS/HIV deaths, income composition of resources and schooling are good estimates for life expectancy. We notice that it takes a combination of economic, health and social (education) variables to influence llife expectancy."
      ]
    }
  ]
}