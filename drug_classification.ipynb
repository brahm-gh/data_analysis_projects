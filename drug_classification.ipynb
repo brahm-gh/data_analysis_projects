{
  "nbformat": 4,
  "nbformat_minor": 0,
  "metadata": {
    "colab": {
      "name": "drug_classification",
      "provenance": []
    },
    "kernelspec": {
      "name": "python3",
      "display_name": "Python 3"
    },
    "language_info": {
      "name": "python"
    }
  },
  "cells": [
    {
      "cell_type": "markdown",
      "metadata": {
        "id": "dV8bgnfTppYQ"
      },
      "source": [
        "#Drug Classification"
      ]
    },
    {
      "cell_type": "code",
      "metadata": {
        "id": "B0xVtD1nlyc_"
      },
      "source": [
        "import pandas as pd\n",
        "import numpy as np\n",
        "import matplotlib.pyplot as plt"
      ],
      "execution_count": 39,
      "outputs": []
    },
    {
      "cell_type": "code",
      "metadata": {
        "id": "Vq5DaEccp0gA"
      },
      "source": [
        "df = pd.read_csv('drug200.csv')"
      ],
      "execution_count": 40,
      "outputs": []
    },
    {
      "cell_type": "code",
      "metadata": {
        "colab": {
          "base_uri": "https://localhost:8080/",
          "height": 202
        },
        "id": "oCFQM8MnqE4x",
        "outputId": "56fcd06e-88ac-422a-8484-9274e10a059e"
      },
      "source": [
        "df.head()"
      ],
      "execution_count": 41,
      "outputs": [
        {
          "output_type": "execute_result",
          "data": {
            "text/html": [
              "<div>\n",
              "<style scoped>\n",
              "    .dataframe tbody tr th:only-of-type {\n",
              "        vertical-align: middle;\n",
              "    }\n",
              "\n",
              "    .dataframe tbody tr th {\n",
              "        vertical-align: top;\n",
              "    }\n",
              "\n",
              "    .dataframe thead th {\n",
              "        text-align: right;\n",
              "    }\n",
              "</style>\n",
              "<table border=\"1\" class=\"dataframe\">\n",
              "  <thead>\n",
              "    <tr style=\"text-align: right;\">\n",
              "      <th></th>\n",
              "      <th>Age</th>\n",
              "      <th>Sex</th>\n",
              "      <th>BP</th>\n",
              "      <th>Cholesterol</th>\n",
              "      <th>Na_to_K</th>\n",
              "      <th>Drug</th>\n",
              "    </tr>\n",
              "  </thead>\n",
              "  <tbody>\n",
              "    <tr>\n",
              "      <th>0</th>\n",
              "      <td>23</td>\n",
              "      <td>F</td>\n",
              "      <td>HIGH</td>\n",
              "      <td>HIGH</td>\n",
              "      <td>25.355</td>\n",
              "      <td>DrugY</td>\n",
              "    </tr>\n",
              "    <tr>\n",
              "      <th>1</th>\n",
              "      <td>47</td>\n",
              "      <td>M</td>\n",
              "      <td>LOW</td>\n",
              "      <td>HIGH</td>\n",
              "      <td>13.093</td>\n",
              "      <td>drugC</td>\n",
              "    </tr>\n",
              "    <tr>\n",
              "      <th>2</th>\n",
              "      <td>47</td>\n",
              "      <td>M</td>\n",
              "      <td>LOW</td>\n",
              "      <td>HIGH</td>\n",
              "      <td>10.114</td>\n",
              "      <td>drugC</td>\n",
              "    </tr>\n",
              "    <tr>\n",
              "      <th>3</th>\n",
              "      <td>28</td>\n",
              "      <td>F</td>\n",
              "      <td>NORMAL</td>\n",
              "      <td>HIGH</td>\n",
              "      <td>7.798</td>\n",
              "      <td>drugX</td>\n",
              "    </tr>\n",
              "    <tr>\n",
              "      <th>4</th>\n",
              "      <td>61</td>\n",
              "      <td>F</td>\n",
              "      <td>LOW</td>\n",
              "      <td>HIGH</td>\n",
              "      <td>18.043</td>\n",
              "      <td>DrugY</td>\n",
              "    </tr>\n",
              "  </tbody>\n",
              "</table>\n",
              "</div>"
            ],
            "text/plain": [
              "   Age Sex      BP Cholesterol  Na_to_K   Drug\n",
              "0   23   F    HIGH        HIGH   25.355  DrugY\n",
              "1   47   M     LOW        HIGH   13.093  drugC\n",
              "2   47   M     LOW        HIGH   10.114  drugC\n",
              "3   28   F  NORMAL        HIGH    7.798  drugX\n",
              "4   61   F     LOW        HIGH   18.043  DrugY"
            ]
          },
          "metadata": {
            "tags": []
          },
          "execution_count": 41
        }
      ]
    },
    {
      "cell_type": "markdown",
      "metadata": {
        "id": "_znJnOS6qleF"
      },
      "source": [
        "column names:\n",
        "* Age : age of the patient\n",
        "* Sex : sex of the patient\n",
        "* BP : blood pressure level\n",
        "* Cholesterol : cholesterol level\n",
        "* Na_to_K : sodium to potasium ratio in blood\n",
        "* Drug : drug type\n"
      ]
    },
    {
      "cell_type": "code",
      "metadata": {
        "colab": {
          "base_uri": "https://localhost:8080/"
        },
        "id": "ziTho2T90r8I",
        "outputId": "cab4e0f6-4faa-4816-97b3-f7cda924bdff"
      },
      "source": [
        "df.shape"
      ],
      "execution_count": 42,
      "outputs": [
        {
          "output_type": "execute_result",
          "data": {
            "text/plain": [
              "(200, 6)"
            ]
          },
          "metadata": {
            "tags": []
          },
          "execution_count": 42
        }
      ]
    },
    {
      "cell_type": "code",
      "metadata": {
        "colab": {
          "base_uri": "https://localhost:8080/"
        },
        "id": "WsLlgsov0kmr",
        "outputId": "a0bf8ed2-6fd6-4cdd-abeb-da908cf412f2"
      },
      "source": [
        "df.isnull().value_counts()"
      ],
      "execution_count": 43,
      "outputs": [
        {
          "output_type": "execute_result",
          "data": {
            "text/plain": [
              "Age    Sex    BP     Cholesterol  Na_to_K  Drug \n",
              "False  False  False  False        False    False    200\n",
              "dtype: int64"
            ]
          },
          "metadata": {
            "tags": []
          },
          "execution_count": 43
        }
      ]
    },
    {
      "cell_type": "code",
      "metadata": {
        "colab": {
          "base_uri": "https://localhost:8080/"
        },
        "id": "0zu-WrdwuMP3",
        "outputId": "03627c71-aa80-42c5-8270-13d37f7ee583"
      },
      "source": [
        "df.Drug.unique()"
      ],
      "execution_count": 44,
      "outputs": [
        {
          "output_type": "execute_result",
          "data": {
            "text/plain": [
              "array(['DrugY', 'drugC', 'drugX', 'drugA', 'drugB'], dtype=object)"
            ]
          },
          "metadata": {
            "tags": []
          },
          "execution_count": 44
        }
      ]
    },
    {
      "cell_type": "markdown",
      "metadata": {
        "id": "FX9FBf9csj8q"
      },
      "source": [
        "####Econoding string variables to numerical variables"
      ]
    },
    {
      "cell_type": "code",
      "metadata": {
        "colab": {
          "base_uri": "https://localhost:8080/",
          "height": 202
        },
        "id": "sfCGApEosne6",
        "outputId": "97728295-90dc-403a-9dc4-67a1b5930ef7"
      },
      "source": [
        "from sklearn.preprocessing import LabelEncoder\n",
        "le = LabelEncoder()\n",
        "df['Sex'] = le.fit_transform(df['Sex'])\n",
        "df['Cholesterol'] = le.fit_transform(df['Cholesterol'])\n",
        "df['Na_to_K'] = le.fit_transform(df['Na_to_K'])\n",
        "df['BP'] = le.fit_transform(df['BP'])\n",
        "df['Drug'] = le.fit_transform(df['Drug'])\n",
        "df.head()"
      ],
      "execution_count": 45,
      "outputs": [
        {
          "output_type": "execute_result",
          "data": {
            "text/html": [
              "<div>\n",
              "<style scoped>\n",
              "    .dataframe tbody tr th:only-of-type {\n",
              "        vertical-align: middle;\n",
              "    }\n",
              "\n",
              "    .dataframe tbody tr th {\n",
              "        vertical-align: top;\n",
              "    }\n",
              "\n",
              "    .dataframe thead th {\n",
              "        text-align: right;\n",
              "    }\n",
              "</style>\n",
              "<table border=\"1\" class=\"dataframe\">\n",
              "  <thead>\n",
              "    <tr style=\"text-align: right;\">\n",
              "      <th></th>\n",
              "      <th>Age</th>\n",
              "      <th>Sex</th>\n",
              "      <th>BP</th>\n",
              "      <th>Cholesterol</th>\n",
              "      <th>Na_to_K</th>\n",
              "      <th>Drug</th>\n",
              "    </tr>\n",
              "  </thead>\n",
              "  <tbody>\n",
              "    <tr>\n",
              "      <th>0</th>\n",
              "      <td>23</td>\n",
              "      <td>0</td>\n",
              "      <td>0</td>\n",
              "      <td>0</td>\n",
              "      <td>167</td>\n",
              "      <td>0</td>\n",
              "    </tr>\n",
              "    <tr>\n",
              "      <th>1</th>\n",
              "      <td>47</td>\n",
              "      <td>1</td>\n",
              "      <td>1</td>\n",
              "      <td>0</td>\n",
              "      <td>89</td>\n",
              "      <td>3</td>\n",
              "    </tr>\n",
              "    <tr>\n",
              "      <th>2</th>\n",
              "      <td>47</td>\n",
              "      <td>1</td>\n",
              "      <td>1</td>\n",
              "      <td>0</td>\n",
              "      <td>43</td>\n",
              "      <td>3</td>\n",
              "    </tr>\n",
              "    <tr>\n",
              "      <th>3</th>\n",
              "      <td>28</td>\n",
              "      <td>0</td>\n",
              "      <td>2</td>\n",
              "      <td>0</td>\n",
              "      <td>10</td>\n",
              "      <td>4</td>\n",
              "    </tr>\n",
              "    <tr>\n",
              "      <th>4</th>\n",
              "      <td>61</td>\n",
              "      <td>0</td>\n",
              "      <td>1</td>\n",
              "      <td>0</td>\n",
              "      <td>133</td>\n",
              "      <td>0</td>\n",
              "    </tr>\n",
              "  </tbody>\n",
              "</table>\n",
              "</div>"
            ],
            "text/plain": [
              "   Age  Sex  BP  Cholesterol  Na_to_K  Drug\n",
              "0   23    0   0            0      167     0\n",
              "1   47    1   1            0       89     3\n",
              "2   47    1   1            0       43     3\n",
              "3   28    0   2            0       10     4\n",
              "4   61    0   1            0      133     0"
            ]
          },
          "metadata": {
            "tags": []
          },
          "execution_count": 45
        }
      ]
    },
    {
      "cell_type": "markdown",
      "metadata": {
        "id": "GTKt1OWHxSO_"
      },
      "source": [
        "####Splitting the data into training and testing set to evaluate our models"
      ]
    },
    {
      "cell_type": "code",
      "metadata": {
        "id": "4ElcbFCAqH2l"
      },
      "source": [
        "from sklearn.model_selection import train_test_split\n",
        "X = df.iloc[:, :-1].values\n",
        "Y = df.iloc[:, -1].values\n",
        "x_train, x_test, y_train, y_test = train_test_split(X, Y, test_size = 0.2)"
      ],
      "execution_count": 46,
      "outputs": []
    },
    {
      "cell_type": "markdown",
      "metadata": {
        "id": "6BqTsPByxanQ"
      },
      "source": [
        "###K-Nearest Neighbor classifier"
      ]
    },
    {
      "cell_type": "code",
      "metadata": {
        "colab": {
          "base_uri": "https://localhost:8080/"
        },
        "id": "-iPeXw2-wQs1",
        "outputId": "6831c362-2608-4a5e-e429-ec5f77229f46"
      },
      "source": [
        "from sklearn.neighbors import KNeighborsClassifier\n",
        "kn = KNeighborsClassifier(n_neighbors = 6)\n",
        "kn.fit(x_train, y_train)"
      ],
      "execution_count": 47,
      "outputs": [
        {
          "output_type": "execute_result",
          "data": {
            "text/plain": [
              "KNeighborsClassifier(algorithm='auto', leaf_size=30, metric='minkowski',\n",
              "                     metric_params=None, n_jobs=None, n_neighbors=6, p=2,\n",
              "                     weights='uniform')"
            ]
          },
          "metadata": {
            "tags": []
          },
          "execution_count": 47
        }
      ]
    },
    {
      "cell_type": "code",
      "metadata": {
        "colab": {
          "base_uri": "https://localhost:8080/"
        },
        "id": "aotU8mS0vZKj",
        "outputId": "440a691c-f7d4-4e14-bf24-0fa012da3cba"
      },
      "source": [
        "from sklearn.metrics import confusion_matrix, accuracy_score\n",
        "y_pred = kn.predict(x_test)\n",
        "print(confusion_matrix(y_pred, y_test))\n",
        "print(accuracy_score(y_pred, y_test))"
      ],
      "execution_count": 48,
      "outputs": [
        {
          "output_type": "stream",
          "text": [
            "[[17  1  1  0  0]\n",
            " [ 0  2  0  2  1]\n",
            " [ 0  0  2  0  2]\n",
            " [ 0  0  1  0  0]\n",
            " [ 0  4  0  1  6]]\n",
            "0.675\n"
          ],
          "name": "stdout"
        }
      ]
    },
    {
      "cell_type": "markdown",
      "metadata": {
        "id": "AMInrQhbMDuK"
      },
      "source": [
        "this accuracy score varies due to the randomness of the split of our dataset into training and testing set."
      ]
    },
    {
      "cell_type": "markdown",
      "metadata": {
        "id": "FhZIEbkdL3JD"
      },
      "source": [
        "Using Cross Validation to find the average R² of the model"
      ]
    },
    {
      "cell_type": "code",
      "metadata": {
        "colab": {
          "base_uri": "https://localhost:8080/"
        },
        "id": "aq3ko5hkJQ1s",
        "outputId": "15bf197d-aada-4c67-b560-90d1800f5dea"
      },
      "source": [
        "from sklearn.model_selection import cross_val_score\n",
        "rscore = cross_val_score(kn, X, Y , cv = 10)\n",
        "print(rscore)\n",
        "print(rscore.mean())"
      ],
      "execution_count": 49,
      "outputs": [
        {
          "output_type": "stream",
          "text": [
            "[0.65 0.6  0.65 0.5  0.7  0.55 0.65 0.55 0.55 0.55]\n",
            "0.595\n"
          ],
          "name": "stdout"
        }
      ]
    },
    {
      "cell_type": "markdown",
      "metadata": {
        "id": "-diGE0dEMZVu"
      },
      "source": [
        "to find the best parameters for our model we will use grid search."
      ]
    },
    {
      "cell_type": "code",
      "metadata": {
        "colab": {
          "base_uri": "https://localhost:8080/"
        },
        "id": "sPd3rl3pL07X",
        "outputId": "9e156105-4764-4b22-801f-af39fedbe461"
      },
      "source": [
        "from sklearn.model_selection import GridSearchCV\n",
        "params = [{'n_neighbors': [4,5,6,7,8,10,11,12]}]\n",
        "gs = GridSearchCV(kn, params, cv = 10)\n",
        "gs.fit(X, Y)\n",
        "g = gs.best_estimator_\n",
        "print(g)"
      ],
      "execution_count": 50,
      "outputs": [
        {
          "output_type": "stream",
          "text": [
            "KNeighborsClassifier(algorithm='auto', leaf_size=30, metric='minkowski',\n",
            "                     metric_params=None, n_jobs=None, n_neighbors=7, p=2,\n",
            "                     weights='uniform')\n"
          ],
          "name": "stdout"
        }
      ]
    },
    {
      "cell_type": "code",
      "metadata": {
        "colab": {
          "base_uri": "https://localhost:8080/"
        },
        "id": "2oW7IXL-Of1t",
        "outputId": "28ce7fac-0c5f-49e5-962f-3e6feaaffa86"
      },
      "source": [
        "knc = KNeighborsClassifier(n_neighbors = 7)\n",
        "knc.fit(x_train, y_train)\n",
        "rscore = cross_val_score(knc, X, Y , cv = 10)\n",
        "print(rscore.mean())"
      ],
      "execution_count": 51,
      "outputs": [
        {
          "output_type": "stream",
          "text": [
            "0.6599999999999999\n"
          ],
          "name": "stdout"
        }
      ]
    },
    {
      "cell_type": "markdown",
      "metadata": {
        "id": "OvOlWAYyxhgA"
      },
      "source": [
        "###Support Vector Machines classifier"
      ]
    },
    {
      "cell_type": "code",
      "metadata": {
        "colab": {
          "base_uri": "https://localhost:8080/"
        },
        "id": "C-RzGVktwBmQ",
        "outputId": "35b72ce9-5b13-47b1-f1e7-49d2277d1759"
      },
      "source": [
        "from sklearn.svm import SVC\n",
        "sc = SVC(kernel = 'rbf')\n",
        "sc.fit(x_train, y_train)"
      ],
      "execution_count": 52,
      "outputs": [
        {
          "output_type": "execute_result",
          "data": {
            "text/plain": [
              "SVC(C=1.0, break_ties=False, cache_size=200, class_weight=None, coef0=0.0,\n",
              "    decision_function_shape='ovr', degree=3, gamma='scale', kernel='rbf',\n",
              "    max_iter=-1, probability=False, random_state=None, shrinking=True,\n",
              "    tol=0.001, verbose=False)"
            ]
          },
          "metadata": {
            "tags": []
          },
          "execution_count": 52
        }
      ]
    },
    {
      "cell_type": "code",
      "metadata": {
        "colab": {
          "base_uri": "https://localhost:8080/"
        },
        "id": "mHYrhaP3x_8M",
        "outputId": "e900b988-35f4-48bb-c3bd-6fdaad81235e"
      },
      "source": [
        "y_pred = sc.predict(x_test)\n",
        "print(confusion_matrix(y_pred, y_test))\n",
        "print(accuracy_score(y_pred, y_test))"
      ],
      "execution_count": 53,
      "outputs": [
        {
          "output_type": "stream",
          "text": [
            "[[17  1  1  0  1]\n",
            " [ 0  0  0  0  0]\n",
            " [ 0  0  0  0  0]\n",
            " [ 0  0  0  0  0]\n",
            " [ 0  6  3  3  8]]\n",
            "0.625\n"
          ],
          "name": "stdout"
        }
      ]
    },
    {
      "cell_type": "code",
      "metadata": {
        "colab": {
          "base_uri": "https://localhost:8080/"
        },
        "id": "b675LkW8PRu2",
        "outputId": "35e5e1e3-2015-4079-8b64-80390040c501"
      },
      "source": [
        "param = [{'kernel':['linear', 'sigmoid', 'rbf']}]\n",
        "gsc = GridSearchCV(sc, param, cv = 10)\n",
        "gsc.fit(X, Y)\n",
        "gsc.best_estimator_"
      ],
      "execution_count": 62,
      "outputs": [
        {
          "output_type": "execute_result",
          "data": {
            "text/plain": [
              "SVC(C=1.0, break_ties=False, cache_size=200, class_weight=None, coef0=0.0,\n",
              "    decision_function_shape='ovr', degree=3, gamma='scale', kernel='linear',\n",
              "    max_iter=-1, probability=False, random_state=None, shrinking=True,\n",
              "    tol=0.001, verbose=False)"
            ]
          },
          "metadata": {
            "tags": []
          },
          "execution_count": 62
        }
      ]
    },
    {
      "cell_type": "code",
      "metadata": {
        "colab": {
          "base_uri": "https://localhost:8080/"
        },
        "id": "pllAehNqRmey",
        "outputId": "05fa4190-84d4-4311-97a6-0df4f0e8a5d5"
      },
      "source": [
        "svc = SVC(kernel = 'linear')\n",
        "rscore = cross_val_score(svc, X, Y , cv = 10)\n",
        "print(rscore.mean())"
      ],
      "execution_count": 63,
      "outputs": [
        {
          "output_type": "stream",
          "text": [
            "0.9749999999999999\n"
          ],
          "name": "stdout"
        }
      ]
    },
    {
      "cell_type": "markdown",
      "metadata": {
        "id": "miEANZjdzsGd"
      },
      "source": [
        "###Decision Tree Classifier"
      ]
    },
    {
      "cell_type": "code",
      "metadata": {
        "colab": {
          "base_uri": "https://localhost:8080/"
        },
        "id": "yE7WYMlGzgK-",
        "outputId": "b38eaf72-dca0-46e3-ace2-6493b4b14ea8"
      },
      "source": [
        "from sklearn.tree import DecisionTreeClassifier\n",
        "tc = DecisionTreeClassifier(criterion = 'entropy', max_depth = 5)\n",
        "tc.fit(x_train, y_train)"
      ],
      "execution_count": 54,
      "outputs": [
        {
          "output_type": "execute_result",
          "data": {
            "text/plain": [
              "DecisionTreeClassifier(ccp_alpha=0.0, class_weight=None, criterion='entropy',\n",
              "                       max_depth=5, max_features=None, max_leaf_nodes=None,\n",
              "                       min_impurity_decrease=0.0, min_impurity_split=None,\n",
              "                       min_samples_leaf=1, min_samples_split=2,\n",
              "                       min_weight_fraction_leaf=0.0, presort='deprecated',\n",
              "                       random_state=None, splitter='best')"
            ]
          },
          "metadata": {
            "tags": []
          },
          "execution_count": 54
        }
      ]
    },
    {
      "cell_type": "code",
      "metadata": {
        "colab": {
          "base_uri": "https://localhost:8080/"
        },
        "id": "49e-Lo2I0WL_",
        "outputId": "5e3fc254-200a-4161-91bf-fe483996a9eb"
      },
      "source": [
        "y_pred = tc.predict(x_test)\n",
        "print(confusion_matrix(y_pred, y_test))\n",
        "print(accuracy_score(y_pred, y_test))"
      ],
      "execution_count": 55,
      "outputs": [
        {
          "output_type": "stream",
          "text": [
            "[[17  0  0  0  0]\n",
            " [ 0  7  0  0  0]\n",
            " [ 0  0  4  0  0]\n",
            " [ 0  0  0  3  0]\n",
            " [ 0  0  0  0  9]]\n",
            "1.0\n"
          ],
          "name": "stdout"
        }
      ]
    },
    {
      "cell_type": "markdown",
      "metadata": {
        "id": "sSOAVqIV03rB"
      },
      "source": [
        "###Conclusion\n",
        "As we can see the decision tree ans SVM models do an amazing job at classifying patients based on their features to predict what drug will be recommended to them, however decision tree classifier is best as it perfectley predicts the dependent variable."
      ]
    }
  ]
}